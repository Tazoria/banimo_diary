{
 "cells": [
  {
   "cell_type": "code",
   "execution_count": 1,
   "metadata": {
    "collapsed": true,
    "ExecuteTime": {
     "end_time": "2023-08-29T07:22:06.765689300Z",
     "start_time": "2023-08-29T07:22:01.011988500Z"
    }
   },
   "outputs": [
    {
     "name": "stdout",
     "output_type": "stream",
     "text": [
      "2.8.0\n"
     ]
    }
   ],
   "source": [
    "import pandas as pd\n",
    "import tensorflow as tf\n",
    "from models.utils.Preprocess import Preprocessor\n",
    "from models.transformer.evaluate import Evaluate\n",
    "from models.transformer.train import CustomSchedule, get_model\n",
    "\n",
    "print(tf.__version__)"
   ]
  },
  {
   "cell_type": "code",
   "execution_count": 14,
   "outputs": [
    {
     "data": {
      "text/plain": "                                           Q  \\\n0                             커뮤니티 하는 썸녀 어때?   \n1                     좋아하는 사람이 날 너무 편하게 생각해.   \n2                              내 부모님이 이혼하신대.   \n3       오늘 합격자 공고가 떴는데 내 이름이 없더라. 가슴이 너무 아파.   \n4  여자 친구와 결혼을 하려고 하는데 준비하면서 여자 친구와 자꾸 싸우게 돼.   \n\n                                           A     label  \n0                               그게 무슨 문제인가요.         2  \n1                        이성으로 대하고 싶다고 말해보세요.         2  \n2                      놀라셨겠어요. 부모님이 다투신 건가요?  insecure  \n3                  아주 속상하시겠군요. 상심이 크실 것 같아요.       sad  \n4  결혼 준비 중에 여자 친구와 싸우셔서 힘드셨군요. 어떻게 하실 생각이세요?  insecure  ",
      "text/html": "<div>\n<style scoped>\n    .dataframe tbody tr th:only-of-type {\n        vertical-align: middle;\n    }\n\n    .dataframe tbody tr th {\n        vertical-align: top;\n    }\n\n    .dataframe thead th {\n        text-align: right;\n    }\n</style>\n<table border=\"1\" class=\"dataframe\">\n  <thead>\n    <tr style=\"text-align: right;\">\n      <th></th>\n      <th>Q</th>\n      <th>A</th>\n      <th>label</th>\n    </tr>\n  </thead>\n  <tbody>\n    <tr>\n      <th>0</th>\n      <td>커뮤니티 하는 썸녀 어때?</td>\n      <td>그게 무슨 문제인가요.</td>\n      <td>2</td>\n    </tr>\n    <tr>\n      <th>1</th>\n      <td>좋아하는 사람이 날 너무 편하게 생각해.</td>\n      <td>이성으로 대하고 싶다고 말해보세요.</td>\n      <td>2</td>\n    </tr>\n    <tr>\n      <th>2</th>\n      <td>내 부모님이 이혼하신대.</td>\n      <td>놀라셨겠어요. 부모님이 다투신 건가요?</td>\n      <td>insecure</td>\n    </tr>\n    <tr>\n      <th>3</th>\n      <td>오늘 합격자 공고가 떴는데 내 이름이 없더라. 가슴이 너무 아파.</td>\n      <td>아주 속상하시겠군요. 상심이 크실 것 같아요.</td>\n      <td>sad</td>\n    </tr>\n    <tr>\n      <th>4</th>\n      <td>여자 친구와 결혼을 하려고 하는데 준비하면서 여자 친구와 자꾸 싸우게 돼.</td>\n      <td>결혼 준비 중에 여자 친구와 싸우셔서 힘드셨군요. 어떻게 하실 생각이세요?</td>\n      <td>insecure</td>\n    </tr>\n  </tbody>\n</table>\n</div>"
     },
     "execution_count": 14,
     "metadata": {},
     "output_type": "execute_result"
    }
   ],
   "source": [
    "train_data = pd.read_csv('data/ChatbotData_merged.csv')\n",
    "train_data = train_data.dropna()\n",
    "train_data = train_data.sample(frac=1).reset_index(drop=True)\n",
    "train_data.head()"
   ],
   "metadata": {
    "collapsed": false,
    "ExecuteTime": {
     "end_time": "2023-08-29T07:39:53.055952700Z",
     "start_time": "2023-08-29T07:39:52.299559500Z"
    }
   }
  },
  {
   "cell_type": "code",
   "execution_count": 7,
   "outputs": [
    {
     "name": "stdout",
     "output_type": "stream",
     "text": [
      "챗봇 샘플의 개수 : 157771\n",
      "Q        0\n",
      "A        0\n",
      "label    0\n",
      "dtype: int64\n"
     ]
    }
   ],
   "source": [
    "print('챗봇 샘플의 개수 :', len(train_data))\n",
    "print(train_data.isnull().sum())"
   ],
   "metadata": {
    "collapsed": false,
    "ExecuteTime": {
     "end_time": "2023-08-29T07:39:15.557276200Z",
     "start_time": "2023-08-29T07:39:15.497265300Z"
    }
   }
  },
  {
   "cell_type": "code",
   "execution_count": 8,
   "outputs": [],
   "source": [
    "questions = train_data['Q'].to_list()\n",
    "answers = train_data['A'].to_list()\n",
    "sentence_list = questions + answers\n",
    "\n",
    "preprocessor = Preprocessor()"
   ],
   "metadata": {
    "collapsed": false,
    "ExecuteTime": {
     "end_time": "2023-08-29T07:39:18.509207100Z",
     "start_time": "2023-08-29T07:39:18.493584200Z"
    }
   }
  },
  {
   "cell_type": "code",
   "execution_count": null,
   "outputs": [],
   "source": [
    "# 갑자기 왜 안되지?\n",
    "from utils.load_tokenizer import load_tokenizer\n",
    "\n",
    "tokenizer = load_tokenizer('vocab_32000.txt')\n",
    "print(tokenizer)"
   ],
   "metadata": {
    "collapsed": false
   }
  },
  {
   "cell_type": "code",
   "execution_count": null,
   "outputs": [],
   "source": [
    "# tokenizer = preprocessor.get_tokenizer(sentence_list, target_vocab_size=32000)\n",
    "# print(tokenizer)"
   ],
   "metadata": {
    "collapsed": false
   }
  },
  {
   "cell_type": "code",
   "execution_count": null,
   "outputs": [],
   "source": [
    "questions, answers = preprocessor.tokenize_and_filter(questions, answers, tokenizer)\n",
    "\n",
    "print('질문 데이터의 크기(shape) :', questions.shape)\n",
    "print('답변 데이터의 크기(shape) :', answers.shape)\n",
    "\n",
    "# 0번 샘플을 임의로 출력\n",
    "print(questions[0])\n",
    "print(answers[0])"
   ],
   "metadata": {
    "collapsed": false
   }
  },
  {
   "cell_type": "code",
   "execution_count": null,
   "outputs": [],
   "source": [
    "dataset = preprocessor.get_train_dataset(questions, answers, batch_size=256, buffer_size=20000)"
   ],
   "metadata": {
    "collapsed": false
   }
  },
  {
   "cell_type": "code",
   "execution_count": null,
   "outputs": [],
   "source": [
    "NUM_LAYERS = 4\n",
    "model = get_model(\n",
    "    vocab_size=tokenizer.vocab_size+2,\n",
    "    num_layers=NUM_LAYERS,\n",
    "    dff=512,\n",
    "    d_model=256,\n",
    "    num_heads=8,\n",
    "    dropout=0.2)\n",
    "\n",
    "\n",
    "def loss_function(y_true, y_pred):\n",
    "  y_true = tf.reshape(y_true, shape=(-1, preprocessor.MAX_LENGTH-1))\n",
    "\n",
    "  loss = tf.keras.losses.SparseCategoricalCrossentropy(\n",
    "    from_logits=True, reduction='none')(y_true, y_pred)\n",
    "\n",
    "  mask = tf.cast(tf.not_equal(y_true, 0), tf.float32)\n",
    "  loss = tf.multiply(loss, mask)\n",
    "\n",
    "  return tf.reduce_mean(loss)\n",
    "\n",
    "\n",
    "def accuracy(y_true, y_pred):\n",
    "  # 레이블의 크기는 (batch_size, MAX_LENGTH - 1)\n",
    "  y_true = tf.reshape(y_true, shape=(-1, preprocessor.MAX_LENGTH-1))\n",
    "  return tf.keras.metrics.sparse_categorical_accuracy(y_true, y_pred)\n",
    "\n",
    "learning_rate = CustomSchedule(d_model=256)\n",
    "\n",
    "\n",
    "optimizer = tf.keras.optimizers.Adam(\n",
    "    learning_rate, beta_1=0.9, beta_2=0.98, epsilon=1e-9)\n",
    "\n",
    "model.compile(optimizer=optimizer, loss=loss_function, metrics=[accuracy])"
   ],
   "metadata": {
    "collapsed": false
   }
  },
  {
   "cell_type": "code",
   "execution_count": null,
   "outputs": [],
   "source": [
    "'''No checkpoint'''\n",
    "def train_model(epochs=50, mini_epoch=10, is_contiune=False):\n",
    "    epoch_saved_path = f'./checkpoints/weights/vocab_{tokenizer.vocab_size}_layers_{NUM_LAYERS}_epoch_saved.txt'\n",
    "    # 저장된 모델이 있는 경우\n",
    "    if is_contiune:\n",
    "        with open(epoch_saved_path, 'r', encoding='utf-8') as f:\n",
    "            total_epoch = int(f.read())\n",
    "        model_path = f'checkpoints/weights/transformer_weight_vocab_{tokenizer.vocab_size}_layers_{NUM_LAYERS}_{total_epoch}.h5'\n",
    "        model.load_weights(model_path)\n",
    "        print(f\"{model_path.replace('checkpoints/weights/', '')} 모델을 사용해 계속 학습합니다.\")\n",
    "    else:\n",
    "        total_epoch = 0\n",
    "        print('저장된 가중치가 없어 처음부터 학습합니다.')\n",
    "\n",
    "    early_stopping = tf.keras.callbacks.EarlyStopping(monitor='loss', patience=3)\n",
    "    EPOCHS = 100\n",
    "    mini_epoch = 10\n",
    "\n",
    "    evaluate = Evaluate(model, tokenizer)\n",
    "    for e in range(int(EPOCHS/mini_epoch)):\n",
    "        model.fit(dataset, epochs=mini_epoch, workers=-1, callbacks=[early_stopping])\n",
    "        total_epoch += mini_epoch\n",
    "        with open(epoch_saved_path, 'w', encoding='utf-8') as f:\n",
    "            f.write(str(total_epoch))\n",
    "        print('>'*20, '샘플 예측', '<'*20)\n",
    "        sample_sentence = \"오늘 엄마랑 에버랜드 갔다왔어.\"\n",
    "        evaluate.predict(sample_sentence)\n",
    "        print('>'*50)\n",
    "\n",
    "        if total_epoch % 5 == 0:\n",
    "            model_path =  f'checkpoints/weights/transformer_weight_vocab_{tokenizer.vocab_size}_layers_{NUM_LAYERS}_{total_epoch}.h5'\n",
    "            model.save_weights(model_path)"
   ],
   "metadata": {
    "collapsed": false
   }
  },
  {
   "cell_type": "code",
   "execution_count": null,
   "outputs": [],
   "source": [
    "tf.keras.backend.clear_session()\n",
    "train_model(epochs=20)"
   ],
   "metadata": {
    "collapsed": false
   }
  },
  {
   "cell_type": "code",
   "execution_count": null,
   "outputs": [],
   "source": [
    "model.summary()"
   ],
   "metadata": {
    "collapsed": false
   }
  }
 ],
 "metadata": {
  "kernelspec": {
   "display_name": "Python 3",
   "language": "python",
   "name": "python3"
  },
  "language_info": {
   "codemirror_mode": {
    "name": "ipython",
    "version": 2
   },
   "file_extension": ".py",
   "mimetype": "text/x-python",
   "name": "python",
   "nbconvert_exporter": "python",
   "pygments_lexer": "ipython2",
   "version": "2.7.6"
  }
 },
 "nbformat": 4,
 "nbformat_minor": 0
}
