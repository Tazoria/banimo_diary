{
 "cells": [
  {
   "cell_type": "code",
   "execution_count": null,
   "metadata": {
    "collapsed": true
   },
   "outputs": [],
   "source": [
    "import pandas as pd\n",
    "import numpy as np\n",
    "import matplotlib.pyplot as plt\n",
    "import re\n",
    "import urllib.request\n",
    "import time\n",
    "import tensorflow_datasets as tfds\n",
    "import tensorflow as tf\n",
    "import os\n",
    "\n",
    "print(tf.__version__)"
   ]
  },
  {
   "cell_type": "code",
   "execution_count": null,
   "outputs": [],
   "source": [
    "train_data = pd.read_csv('../data/ChatbotData_merged.csv')\n",
    "train_data = train_data.dropna()\n",
    "train_data.head()"
   ],
   "metadata": {
    "collapsed": false
   }
  },
  {
   "cell_type": "code",
   "execution_count": null,
   "outputs": [],
   "source": [
    "print('챗봇 샘플의 개수 :', len(train_data))\n",
    "print(train_data.isnull().sum())"
   ],
   "metadata": {
    "collapsed": false
   }
  },
  {
   "cell_type": "code",
   "execution_count": null,
   "outputs": [],
   "source": [
    "questions = []\n",
    "# 최대 길이를 학습 데이터 문장의 최대길이로 정의 - 43\n",
    "MAX_LENGTH = 0\n",
    "for sentence in train_data['Q']:\n",
    "    # 구두점에 앞 띄어쓰기 추가\n",
    "    sentence = re.sub(r\"([?.!,])\", r\" \\1 \", sentence)\n",
    "    sentence = sentence.strip()\n",
    "    questions.append(sentence)\n",
    "    length = len(sentence.split())\n",
    "    if length > MAX_LENGTH:\n",
    "      MAX_LENGTH = length\n",
    "\n",
    "answers = []\n",
    "for sentence in train_data['A']:\n",
    "    sentence = re.sub(r\"([?.!,])\", r\" \\1 \", sentence)\n",
    "    sentence = sentence.strip()\n",
    "    answers.append(sentence)\n",
    "    length = len(sentence.split())\n",
    "    if length > MAX_LENGTH:\n",
    "      MAX_LENGTH = length\n",
    "\n",
    "print(questions[:5])\n",
    "print(answers[:5])\n",
    "# print(MAX_LENGTH)"
   ],
   "metadata": {
    "collapsed": false
   }
  },
  {
   "cell_type": "code",
   "execution_count": null,
   "outputs": [],
   "source": [
    "# # 서브워드텍스트인코더를 사용하여 질문, 답변 데이터로부터 단어 집합(Vocabulary) 생성\n",
    "# tokenizer = tfds.deprecated.text.SubwordTextEncoder.build_from_corpus(\n",
    "#     questions + answers, target_vocab_size=2**13)"
   ],
   "metadata": {
    "collapsed": false
   }
  },
  {
   "cell_type": "code",
   "execution_count": null,
   "outputs": [],
   "source": [
    "# corpus = []\n",
    "# tokenizer_path = r'D:\\banimo_diary\\models\\tokenizer.txt'\n",
    "# with open(tokenizer_path, 'r', encoding='utf-8') as f:\n",
    "#     for inx, line in enumerate(f):\n",
    "#         if inx > 1:\n",
    "#             corpus.append(line.strip())\n",
    "# # 헤더 정보가 포함된 열 두개를 토크나이저 로드시에 제외하기 때문에 추가해줌\n",
    "# corpus.insert(0, '')\n",
    "# corpus.insert(0, '')\n",
    "#\n",
    "# new_tokenizer_path = tokenizer_path.replace('.subword', '_new.txt')\n",
    "# with open(new_tokenizer_path, 'w', encoding='utf-8') as f:\n",
    "#     f.write('\\n'.join(corpus))\n",
    "#     f.write('\\n')\n",
    "#"
   ],
   "metadata": {
    "collapsed": false
   }
  },
  {
   "cell_type": "code",
   "execution_count": null,
   "outputs": [],
   "source": [
    "corpus = []\n",
    "\n",
    "tokenizer_path = r'D:\\banimo_diary\\models\\vocab.txt'\n",
    "with open(tokenizer_path, 'r', encoding='utf-8') as f:\n",
    "    for line in f:\n",
    "        corpus.append(line.strip())\n",
    "print(corpus[:10])\n",
    "tokenizer = tfds.deprecated.text.SubwordTextEncoder(vocab_list=corpus)"
   ],
   "metadata": {
    "collapsed": false
   }
  },
  {
   "cell_type": "code",
   "execution_count": null,
   "outputs": [],
   "source": [
    "tokenizer.save_to_file('checkpoints/vocab')"
   ],
   "metadata": {
    "collapsed": false
   }
  },
  {
   "cell_type": "code",
   "execution_count": null,
   "outputs": [],
   "source": [
    "# corpus = []\n",
    "# with open('checkpoints/tokenizer.subwords', 'r', encoding='utf-8') as f:\n",
    "#   for inx, line in enumerate(f):\n",
    "#     if inx > 1:\n",
    "#       # sent = sent.replace('\\n', '')\n",
    "#       # sent = re.sub(r\"[^ㄱ-ㅎㅏ-ㅣ가-힣?.!,_]+\", \" \", sent)\n",
    "#       # sent = sent.strip()\n",
    "#       corpus.append(line.strip())\n",
    "#\n",
    "# # corpus.insert(0, '### Metadata: {}')\n",
    "# # corpus.insert(0, '### SubwordTextEncoder')\n",
    "# # 헤더 정보가 포함된 열 두개를 토크나이저 로드시에 제외하기 때문에 추가해줌\n",
    "# corpus.insert(0, '')\n",
    "# corpus.insert(0, '')\n",
    "# print(len(corpus))\n",
    "# with open('checkpoints/tokenizer.txt', 'w', encoding='utf-8') as f:\n",
    "#     f.write('\\n'.join(corpus))\n",
    "#     f.write('\\n')"
   ],
   "metadata": {
    "collapsed": false
   }
  },
  {
   "cell_type": "code",
   "execution_count": null,
   "outputs": [],
   "source": [
    "print(tokenizer.vocab_size)"
   ],
   "metadata": {
    "collapsed": false
   }
  },
  {
   "cell_type": "code",
   "execution_count": null,
   "outputs": [],
   "source": [
    "# 시작 토큰과 종료 토큰에 대한 정수 부여.\n",
    "START_TOKEN, END_TOKEN = [tokenizer.vocab_size], [tokenizer.vocab_size + 1]\n",
    "\n",
    "# 시작 토큰과 종료 토큰을 고려하여 단어 집합의 크기를 + 2\n",
    "VOCAB_SIZE = tokenizer.vocab_size + 2\n",
    "\n",
    "# print('시작 토큰 번호 :',START_TOKEN)\n",
    "# print('종료 토큰 번호 :',END_TOKEN)\n",
    "# print('단어 집합의 크기 :',VOCAB_SIZE)\n",
    "#\n",
    "# # 서브워드텍스트인코더 토크나이저의 .encode()를 사용하여 텍스트 시퀀스를 정수 시퀀스로 변환.\n",
    "# # print('임의의 질문 샘플을 정수 인코딩 : {}'.format(tokenizer.encode(questions[20])))"
   ],
   "metadata": {
    "collapsed": false
   }
  },
  {
   "cell_type": "code",
   "execution_count": null,
   "outputs": [],
   "source": [
    "# # 서브워드텍스트인코더 토크나이저의 .encode()와 .decode() 테스트해보기\n",
    "# # 임의의 입력 문장을 sample_string에 저장\n",
    "# sample_string = questions[20]\n",
    "#\n",
    "# # encode() : 텍스트 시퀀스 --> 정수 시퀀스\n",
    "# tokenized_string = tokenizer.encode(sample_string)\n",
    "# print ('정수 인코딩 후의 문장 {}'.format(tokenized_string))\n",
    "#\n",
    "# # decode() : 정수 시퀀스 --> 텍스트 시퀀스\n",
    "# original_string = tokenizer.decode(tokenized_string)\n",
    "# print ('기존 문장: {}'.format(original_string))"
   ],
   "metadata": {
    "collapsed": false
   }
  },
  {
   "cell_type": "code",
   "execution_count": null,
   "outputs": [],
   "source": [
    "# # 각 정수는 각 단어와 어떻게 mapping되는지 병렬로 출력\n",
    "# # 서브워드텍스트인코더는 의미있는 단위의 서브워드로 토크나이징한다. 띄어쓰기 단위 X 형태소 분석 단위 X\n",
    "# for ts in tokenized_string:\n",
    "#   print ('{} ----> {}'.format(ts, tokenizer.decode([ts])))"
   ],
   "metadata": {
    "collapsed": false
   }
  },
  {
   "cell_type": "code",
   "execution_count": null,
   "outputs": [],
   "source": [
    "# 토큰화 / 정수 인코딩 / 시작 토큰과 종료 토큰 추가 / 패딩\n",
    "def tokenize_and_filter(inputs, outputs):\n",
    "  tokenized_inputs, tokenized_outputs = [], []\n",
    "\n",
    "  for (sentence1, sentence2) in zip(inputs, outputs):\n",
    "    # encode(토큰화 + 정수 인코딩), 시작 토큰과 종료 토큰 추가\n",
    "    sentence1 = START_TOKEN + tokenizer.encode(sentence1) + END_TOKEN\n",
    "    sentence2 = START_TOKEN + tokenizer.encode(sentence2) + END_TOKEN\n",
    "\n",
    "    tokenized_inputs.append(sentence1)\n",
    "    tokenized_outputs.append(sentence2)\n",
    "\n",
    "  # 패딩\n",
    "  tokenized_inputs = tf.keras.preprocessing.sequence.pad_sequences(\n",
    "      tokenized_inputs, maxlen=MAX_LENGTH, padding='post')\n",
    "  tokenized_outputs = tf.keras.preprocessing.sequence.pad_sequences(\n",
    "      tokenized_outputs, maxlen=MAX_LENGTH, padding='post')\n",
    "\n",
    "  return tokenized_inputs, tokenized_outputs"
   ],
   "metadata": {
    "collapsed": false
   }
  },
  {
   "cell_type": "code",
   "execution_count": null,
   "outputs": [],
   "source": [
    "questions, answers = tokenize_and_filter(questions, answers)\n",
    "\n",
    "print('질문 데이터의 크기(shape) :', questions.shape)\n",
    "print('답변 데이터의 크기(shape) :', answers.shape)\n",
    "\n",
    "# 0번 샘플을 임의로 출력\n",
    "print(questions[0])\n",
    "print(answers[0])"
   ],
   "metadata": {
    "collapsed": false
   }
  },
  {
   "cell_type": "code",
   "execution_count": null,
   "outputs": [],
   "source": [
    "# 텐서플로우 dataset을 이용하여 셔플(shuffle)을 수행하되, 배치 크기로 데이터를 묶는다.\n",
    "# 또한 이 과정에서 교사 강요(teacher forcing)을 사용하기 위해서 디코더의 입력과 실제값 시퀀스를 구성한다.\n",
    "BATCH_SIZE = 128\n",
    "BUFFER_SIZE = 20000\n",
    "\n",
    "# 디코더의 실제값 시퀀스에서는 시작 토큰을 제거해야 한다.\n",
    "dataset = tf.data.Dataset.from_tensor_slices((\n",
    "    {\n",
    "        'inputs': questions,\n",
    "        'dec_inputs': answers[:, :-1] # 디코더의 입력. 마지막 패딩 토큰이 제거된다.\n",
    "    },\n",
    "    {\n",
    "        'outputs': answers[:, 1:]  # 맨 처음 토큰이 제거된다. 다시 말해 시작 토큰이 제거된다.\n",
    "    },\n",
    "))\n",
    "\n",
    "dataset = dataset.cache()\n",
    "dataset = dataset.shuffle(BUFFER_SIZE)\n",
    "dataset = dataset.batch(BATCH_SIZE)\n",
    "dataset = dataset.prefetch(tf.data.experimental.AUTOTUNE)"
   ],
   "metadata": {
    "collapsed": false
   }
  },
  {
   "cell_type": "code",
   "execution_count": null,
   "outputs": [],
   "source": [
    "# # 임의의 샘플에 대해서 [:, :-1]과 [:, 1:]이 어떤 의미를 가지는지 테스트해본다.\n",
    "# print(answers[0]) # 기존 샘플\n",
    "# print(answers[:1][:, :-1]) # 마지막 패딩 토큰 제거하면서 길이가 39가 된다.\n",
    "# print(answers[:1][:, 1:]) # 맨 처음 토큰이 제거된다. 다시 말해 시작 토큰이 제거된다. 길이는 역시 39가 된다."
   ],
   "metadata": {
    "collapsed": false
   }
  },
  {
   "cell_type": "code",
   "execution_count": null,
   "outputs": [],
   "source": [
    "class PositionalEncoding(tf.keras.layers.Layer):\n",
    "  def __init__(self, position, d_model):\n",
    "    super(PositionalEncoding, self).__init__()\n",
    "    self.pos_encoding = self.positional_encoding(position, d_model)\n",
    "\n",
    "  def get_angles(self, position, i, d_model):\n",
    "    angles = 1 / tf.pow(10000, (2 * (i // 2)) / tf.cast(d_model, tf.float32))\n",
    "    return position * angles\n",
    "\n",
    "  def positional_encoding(self, position, d_model):\n",
    "    angle_rads = self.get_angles(\n",
    "        position=tf.range(position, dtype=tf.float32)[:, tf.newaxis],\n",
    "        i=tf.range(d_model, dtype=tf.float32)[tf.newaxis, :],\n",
    "        d_model=d_model)\n",
    "\n",
    "    # 배열의 짝수 인덱스(2i)에는 사인 함수 적용\n",
    "    sines = tf.math.sin(angle_rads[:, 0::2])\n",
    "\n",
    "    # 배열의 홀수 인덱스(2i+1)에는 코사인 함수 적용\n",
    "    cosines = tf.math.cos(angle_rads[:, 1::2])\n",
    "\n",
    "    angle_rads = np.zeros(angle_rads.shape)\n",
    "    angle_rads[:, 0::2] = sines\n",
    "    angle_rads[:, 1::2] = cosines\n",
    "    pos_encoding = tf.constant(angle_rads)\n",
    "    pos_encoding = pos_encoding[tf.newaxis, ...]\n",
    "\n",
    "    print(pos_encoding.shape)\n",
    "    return tf.cast(pos_encoding, tf.float32)\n",
    "\n",
    "  def call(self, inputs):\n",
    "    return inputs + self.pos_encoding[:, :tf.shape(inputs)[1], :]\n",
    "\n",
    "  def get_config(self):\n",
    "    config = super().get_config()\n",
    "    config.update({\n",
    "        \"pos_encoding\": self.pos_encoding,\n",
    "    })\n",
    "    return config\n"
   ],
   "metadata": {
    "collapsed": false
   }
  },
  {
   "cell_type": "code",
   "execution_count": null,
   "outputs": [],
   "source": [
    "# @tf.keras.utils.register_keras_serializable()\n",
    "# class PositionalEncoding(tf.keras.layers.Layer):\n",
    "#     def __init__(self, position, d_model, **kwargs):\n",
    "#         super(PositionalEncoding, self).__init__(**kwargs)\n",
    "#         self.position = position\n",
    "#         self.d_model = d_model\n",
    "#         self.pos_encoding = self.positional_encoding(self.position, self.d_model)\n",
    "#\n",
    "#     def get_angles(self, position, i, d_model):\n",
    "#         angles = 1 / tf.pow(10000, (2 * (i // 2)) / tf.cast(d_model, tf.float32))\n",
    "#         return position * angles\n",
    "#\n",
    "#     def positional_encoding(self, position, d_model):\n",
    "#         angle_rads = self.get_angles(\n",
    "#             position=tf.range(position, dtype=tf.float32)[:, tf.newaxis],\n",
    "#             i=tf.range(d_model, dtype=tf.float32)[tf.newaxis, :],\n",
    "#             d_model=d_model)\n",
    "#\n",
    "#         # 배열의 짝수 인덱스(2i)에는 사인 함수 적용\n",
    "#         sines = tf.math.sin(angle_rads[:, 0::2])\n",
    "#\n",
    "#         # 배열의 홀수 인덱스(2i+1)에는 코사인 함수 적용\n",
    "#         cosines = tf.math.cos(angle_rads[:, 1::2])\n",
    "#\n",
    "#         angle_rads = np.zeros(angle_rads.shape)\n",
    "#         angle_rads[:, 0::2] = sines\n",
    "#         angle_rads[:, 1::2] = cosines\n",
    "#         pos_encoding = tf.constant(angle_rads)\n",
    "#         pos_encoding = pos_encoding[tf.newaxis, ...]\n",
    "#\n",
    "#         print(pos_encoding.shape)\n",
    "#         return tf.cast(pos_encoding, tf.float32)\n",
    "#\n",
    "#     def call(self, inputs):\n",
    "#         return inputs + self.pos_encoding[:, :tf.shape(inputs)[1], :]\n",
    "#\n",
    "#     def get_config(self):\n",
    "#         return {\n",
    "#             'position': self.position,\n",
    "#             'd_model': self.d_model,\n",
    "#         }\n",
    "#\n",
    "#     @classmethod\n",
    "#     def from_config(cls, config):\n",
    "#         return cls(**config)\n"
   ],
   "metadata": {
    "collapsed": false
   }
  },
  {
   "cell_type": "code",
   "execution_count": null,
   "outputs": [],
   "source": [
    "# # 문장의 길이 50, 임베딩 벡터의 차원 128\n",
    "# sample_pos_encoding = PositionalEncoding(50, 128)\n",
    "#\n",
    "# plt.pcolormesh(sample_pos_encoding.pos_encoding.numpy()[0], cmap='RdBu')\n",
    "# plt.xlabel('Depth')\n",
    "# plt.xlim((0, 128))\n",
    "# plt.ylabel('Position')\n",
    "# plt.colorbar()\n",
    "# plt.show()"
   ],
   "metadata": {
    "collapsed": false
   }
  },
  {
   "cell_type": "code",
   "execution_count": null,
   "outputs": [],
   "source": [
    "def scaled_dot_product_attention(query, key, value, mask):\n",
    "    # query 크기 : (batch_size, num_heads, query의 문장 길이, d_model/num_heads)\n",
    "    # key 크기 : (batch_size, num_heads, key의 문장 길이, d_model/num_heads)\n",
    "    # value 크기 : (batch_size, num_heads, value의 문장 길이, d_model/num_heads)\n",
    "    # padding_mask : (batch_size, 1, 1, key의 문장 길이)\n",
    "\n",
    "    # Q와 K의 곱. 어텐션 스코어 행렬.\n",
    "    matmul_qk = tf.matmul(query, key, transpose_b=True)\n",
    "\n",
    "    # 스케일링\n",
    "    # dk의 루트값으로 나눠준다.\n",
    "    depth = tf.cast(tf.shape(key)[-1], tf.float32)\n",
    "    logits = matmul_qk / tf.math.sqrt(depth)\n",
    "\n",
    "    # 마스킹. 어텐션 스코어 행렬의 마스킹 할 위치에 매우 작은 음수값을 넣는다.\n",
    "    # 매우 작은 값이므로 소프트맥스 함수를 지나면 행렬의 해당 위치의 값은 0이 된다.\n",
    "    if mask is not None:\n",
    "        logits += (mask * -1e9)\n",
    "\n",
    "    # 소프트맥스 함수는 마지막 차원인 key의 문장 길이 방향으로 수행된다.\n",
    "    # attention weight : (batch_size, num_heads, query의 문장 길이, key의 문장 길이)\n",
    "    attention_weights = tf.nn.softmax(logits, axis=-1)\n",
    "\n",
    "    # output : (batch_size, num_heads, query의 문장 길이, d_model/num_heads)\n",
    "    output = tf.matmul(attention_weights, value)\n",
    "\n",
    "    return output, attention_weights"
   ],
   "metadata": {
    "collapsed": false
   }
  },
  {
   "cell_type": "code",
   "execution_count": null,
   "outputs": [],
   "source": [
    "# # 임의의 Query, Key, Value인 Q, K, V 행렬 생성\n",
    "# np.set_printoptions(suppress=True)\n",
    "# temp_k = tf.constant([[10,0,0],\n",
    "#                       [0,10,0],\n",
    "#                       [0,0,10],\n",
    "#                       [0,0,10]], dtype=tf.float32)  # (4, 3)\n",
    "#\n",
    "# temp_v = tf.constant([[   1,0],\n",
    "#                       [  10,0],\n",
    "#                       [ 100,5],\n",
    "#                       [1000,6]], dtype=tf.float32)  # (4, 2)\n",
    "# temp_q = tf.constant([[0, 10, 0]], dtype=tf.float32)  # (1, 3)"
   ],
   "metadata": {
    "collapsed": false
   }
  },
  {
   "cell_type": "code",
   "execution_count": null,
   "outputs": [],
   "source": [
    "# # 함수 실행\n",
    "# temp_out, temp_attn = scaled_dot_product_attention(temp_q, temp_k, temp_v, None)\n",
    "# print(temp_attn) # 어텐션 분포(어텐션 가중치의 나열)\n",
    "# print(temp_out) # 어텐션 값"
   ],
   "metadata": {
    "collapsed": false
   }
  },
  {
   "cell_type": "code",
   "execution_count": null,
   "outputs": [],
   "source": [
    "# temp_q = tf.constant([[0, 0, 10]], dtype=tf.float32)\n",
    "# temp_out, temp_attn = scaled_dot_product_attention(temp_q, temp_k, temp_v, None)\n",
    "# print(temp_attn) # 어텐션 분포(어텐션 가중치의 나열)\n",
    "# print(temp_out) # 어텐션 값"
   ],
   "metadata": {
    "collapsed": false
   }
  },
  {
   "cell_type": "code",
   "execution_count": null,
   "outputs": [],
   "source": [
    "# temp_q = tf.constant([[0, 0, 10], [0, 10, 0], [10, 10, 0]], dtype=tf.float32)  # (3, 3)\n",
    "# temp_out, temp_attn = scaled_dot_product_attention(temp_q, temp_k, temp_v, None)\n",
    "# print(temp_attn) # 어텐션 분포(어텐션 가중치의 나열)\n",
    "# print(temp_out) # 어텐션 값"
   ],
   "metadata": {
    "collapsed": false
   }
  },
  {
   "cell_type": "code",
   "execution_count": null,
   "outputs": [],
   "source": [
    "class MultiHeadAttention(tf.keras.layers.Layer):\n",
    "\n",
    "  def __init__(self, d_model, num_heads, name=\"multi_head_attention\"):\n",
    "    super(MultiHeadAttention, self).__init__(name=name)\n",
    "    self.num_heads = num_heads\n",
    "    self.d_model = d_model\n",
    "\n",
    "    assert d_model % self.num_heads == 0\n",
    "\n",
    "    # d_model을 num_heads로 나눈 값.\n",
    "    # 논문 기준 : 64\n",
    "    self.depth = d_model // self.num_heads\n",
    "\n",
    "    # WQ, WK, WV에 해당하는 밀집층 정의\n",
    "    self.query_dense = tf.keras.layers.Dense(units=d_model)\n",
    "    self.key_dense = tf.keras.layers.Dense(units=d_model)\n",
    "    self.value_dense = tf.keras.layers.Dense(units=d_model)\n",
    "\n",
    "    # WO에 해당하는 밀집층 정의\n",
    "    self.dense = tf.keras.layers.Dense(units=d_model)\n",
    "\n",
    "  # num_heads 개수만큼 q, k, v를 split하는 함수\n",
    "  def split_heads(self, inputs, batch_size):\n",
    "    inputs = tf.reshape(\n",
    "        inputs, shape=(batch_size, -1, self.num_heads, self.depth))\n",
    "    return tf.transpose(inputs, perm=[0, 2, 1, 3])\n",
    "\n",
    "  def call(self, inputs):\n",
    "    query, key, value, mask = inputs['query'], inputs['key'], inputs[\n",
    "        'value'], inputs['mask']\n",
    "    batch_size = tf.shape(query)[0]\n",
    "\n",
    "    # 1. WQ, WK, WV에 해당하는 밀집층 지나기\n",
    "    # q : (batch_size, query의 문장 길이, d_model)\n",
    "    # k : (batch_size, key의 문장 길이, d_model)\n",
    "    # v : (batch_size, value의 문장 길이, d_model)\n",
    "    # 참고) 인코더(k, v)-디코더(q) 어텐션에서는 query 길이와 key, value의 길이는 다를 수 있다.\n",
    "    query = self.query_dense(query)\n",
    "    key = self.key_dense(key)\n",
    "    value = self.value_dense(value)\n",
    "\n",
    "    # 2. 헤드 나누기\n",
    "    # q : (batch_size, num_heads, query의 문장 길이, d_model/num_heads)\n",
    "    # k : (batch_size, num_heads, key의 문장 길이, d_model/num_heads)\n",
    "    # v : (batch_size, num_heads, value의 문장 길이, d_model/num_heads)\n",
    "    query = self.split_heads(query, batch_size)\n",
    "    key = self.split_heads(key, batch_size)\n",
    "    value = self.split_heads(value, batch_size)\n",
    "\n",
    "    # 3. 스케일드 닷 프로덕트 어텐션. 앞서 구현한 함수 사용.\n",
    "    # (batch_size, num_heads, query의 문장 길이, d_model/num_heads)\n",
    "    scaled_attention, _ = scaled_dot_product_attention(query, key, value, mask)\n",
    "    # (batch_size, query의 문장 길이, num_heads, d_model/num_heads)\n",
    "    scaled_attention = tf.transpose(scaled_attention, perm=[0, 2, 1, 3])\n",
    "\n",
    "    # 4. 헤드 연결(concatenate)하기\n",
    "    # (batch_size, query의 문장 길이, d_model)\n",
    "    concat_attention = tf.reshape(scaled_attention,\n",
    "                                  (batch_size, -1, self.d_model))\n",
    "\n",
    "    # 5. WO에 해당하는 밀집층 지나기\n",
    "    # (batch_size, query의 문장 길이, d_model)\n",
    "    outputs = self.dense(concat_attention)\n",
    "    return outputs\n",
    "\n",
    "  def get_config(self):\n",
    "    config = super().get_config()\n",
    "    config.update({\n",
    "        \"num_heads\": self.num_heads,\n",
    "        \"d_model\": self.d_model,\n",
    "        # \"query_dense\": self.query_dense,\n",
    "        # \"key_dense\": self.key_dense,\n",
    "        # \"value_dense\": self.value_dense,\n",
    "    })\n",
    "    return config"
   ],
   "metadata": {
    "collapsed": false
   }
  },
  {
   "cell_type": "code",
   "execution_count": null,
   "outputs": [],
   "source": [
    "# @tf.keras.utils.register_keras_serializable()\n",
    "# class MyMultiHeadAttention(tf.keras.layers.Layer):\n",
    "#\n",
    "#     def __init__(self, d_model, num_heads, name=\"multi_head_attention\", **kwargs):\n",
    "#         super(MyMultiHeadAttention, self).__init__(name=name, **kwargs)\n",
    "#         self.num_heads = num_heads\n",
    "#         self.d_model = d_model\n",
    "#\n",
    "#         assert d_model % self.num_heads == 0\n",
    "#\n",
    "#         # d_model을 num_heads로 나눈 값.\n",
    "#         # 논문 기준 : 64\n",
    "#         self.depth = d_model // self.num_heads\n",
    "#\n",
    "#         # WQ, WK, WV에 해당하는 밀집층 정의\n",
    "#         self.query_dense = tf.keras.layers.Dense(units=d_model)\n",
    "#         self.key_dense = tf.keras.layers.Dense(units=d_model)\n",
    "#         self.value_dense = tf.keras.layers.Dense(units=d_model)\n",
    "#\n",
    "#         # WO에 해당하는 밀집층 정의\n",
    "#         self.dense = tf.keras.layers.Dense(units=d_model)\n",
    "#\n",
    "#   # num_heads 개수만큼 q, k, v를 split하는 함수\n",
    "#     def split_heads(self, inputs, batch_size):\n",
    "#         inputs = tf.reshape(\n",
    "#             inputs, shape=(batch_size, -1, self.num_heads, self.depth))\n",
    "#         return tf.transpose(inputs, perm=[0, 2, 1, 3])\n",
    "#\n",
    "#\n",
    "#     def call(self, inputs):\n",
    "#         query, key, value, mask = inputs['query'], inputs['key'], inputs['value'], inputs['mask']\n",
    "#         batch_size = tf.shape(query)[0]\n",
    "#\n",
    "#         # 1. WQ, WK, WV에 해당하는 밀집층 지나기\n",
    "#         # q : (batch_size, query의 문장 길이, d_model)\n",
    "#         # k : (batch_size, key의 문장 길이, d_model)\n",
    "#         # v : (batch_size, value의 문장 길이, d_model)\n",
    "#         # 참고) 인코더(k, v)-디코더(q) 어텐션에서는 query 길이와 key, value의 길이는 다를 수 있다.\n",
    "#         query = self.query_dense(query)\n",
    "#         key = self.key_dense(key)\n",
    "#         value = self.value_dense(value)\n",
    "#\n",
    "#         # 2. 헤드 나누기\n",
    "#         # q : (batch_size, num_heads, query의 문장 길이, d_model/num_heads)\n",
    "#         # k : (batch_size, num_heads, key의 문장 길이, d_model/num_heads)\n",
    "#         # v : (batch_size, num_heads, value의 문장 길이, d_model/num_heads)\n",
    "#         query = self.split_heads(query, batch_size)\n",
    "#         key = self.split_heads(key, batch_size)\n",
    "#         value = self.split_heads(value, batch_size)\n",
    "#\n",
    "#         # 3. 스케일드 닷 프로덕트 어텐션. 앞서 구현한 함수 사용.\n",
    "#         # (batch_size, num_heads, query의 문장 길이, d_model/num_heads)\n",
    "#         scaled_attention, _ = scaled_dot_product_attention(query, key, value, mask)\n",
    "#         # (batch_size, query의 문장 길이, num_heads, d_model/num_heads)\n",
    "#         scaled_attention = tf.transpose(scaled_attention, perm=[0, 2, 1, 3])\n",
    "#\n",
    "#         # 4. 헤드 연결(concatenate)하기\n",
    "#         # (batch_size, query의 문장 길이, d_model)\n",
    "#         concat_attention = tf.reshape(scaled_attention,\n",
    "#                                       (batch_size, -1, self.d_model))\n",
    "#\n",
    "#         # 5. WO에 해당하는 밀집층 지나기\n",
    "#         # (batch_size, query의 문장 길이, d_model)\n",
    "#         outputs = self.dense(concat_attention)\n",
    "#\n",
    "#         return outputs\n",
    "#\n",
    "#\n",
    "#     def get_config(self):\n",
    "#         return {\n",
    "#             'num_heads': self.num_heads,\n",
    "#             'd_model': self.d_model,\n",
    "#             'depth': self.depth,\n",
    "#             'query_dense': self.query_dense,\n",
    "#             'key_dense': self.key_dense,\n",
    "#             'value_dense': self.value_dense,\n",
    "#             'dense': self.dense\n",
    "#         }\n",
    "#\n",
    "#     @classmethod\n",
    "#     def from_config(cls, config):\n",
    "#         return cls(**config)"
   ],
   "metadata": {
    "collapsed": false
   }
  },
  {
   "cell_type": "code",
   "execution_count": null,
   "outputs": [],
   "source": [
    "def create_padding_mask(x):\n",
    "  mask = tf.cast(tf.math.equal(x, 0), tf.float32)\n",
    "  # (batch_size, 1, 1, key의 문장 길이)\n",
    "  return mask[:, tf.newaxis, tf.newaxis, :]"
   ],
   "metadata": {
    "collapsed": false
   }
  },
  {
   "cell_type": "code",
   "execution_count": null,
   "outputs": [],
   "source": [
    "# print(create_padding_mask(tf.constant([[1, 21, 777, 0, 0]])))"
   ],
   "metadata": {
    "collapsed": false
   }
  },
  {
   "cell_type": "code",
   "execution_count": null,
   "outputs": [],
   "source": [
    "def encoder_layer(dff, d_model, num_heads, dropout, name=\"encoder_layer\"):\n",
    "  inputs = tf.keras.Input(shape=(None, d_model), name=\"inputs\")\n",
    "\n",
    "  # 인코더는 패딩 마스크 사용\n",
    "  padding_mask = tf.keras.Input(shape=(1, 1, None), name=\"padding_mask\")\n",
    "\n",
    "  # 멀티-헤드 어텐션 (첫번째 서브층 / 셀프 어텐션)\n",
    "  attention = MultiHeadAttention(\n",
    "      d_model, num_heads, name=\"attention\")({\n",
    "          'query': inputs, 'key': inputs, 'value': inputs, # Q = K = V\n",
    "          'mask': padding_mask # 패딩 마스크 사용\n",
    "      })\n",
    "\n",
    "  # 드롭아웃 + 잔차 연결과 층 정규화\n",
    "  attention = tf.keras.layers.Dropout(rate=dropout)(attention)\n",
    "  attention = tf.keras.layers.LayerNormalization(\n",
    "      epsilon=1e-6)(inputs + attention)\n",
    "\n",
    "  # 포지션 와이즈 피드 포워드 신경망 (두번째 서브층)\n",
    "  outputs = tf.keras.layers.Dense(units=dff, activation='relu')(attention)\n",
    "  outputs = tf.keras.layers.Dense(units=d_model)(outputs)\n",
    "\n",
    "  # 드롭아웃 + 잔차 연결과 층 정규화\n",
    "  outputs = tf.keras.layers.Dropout(rate=dropout)(outputs)\n",
    "  outputs = tf.keras.layers.LayerNormalization(\n",
    "      epsilon=1e-6)(attention + outputs)\n",
    "\n",
    "  return tf.keras.Model(\n",
    "      inputs=[inputs, padding_mask], outputs=outputs, name=name)"
   ],
   "metadata": {
    "collapsed": false
   }
  },
  {
   "cell_type": "code",
   "execution_count": null,
   "outputs": [],
   "source": [
    "def encoder(vocab_size, num_layers, dff,\n",
    "            d_model, num_heads, dropout,\n",
    "            name=\"encoder\"):\n",
    "  inputs = tf.keras.Input(shape=(None,), name=\"inputs\")\n",
    "\n",
    "  # 인코더는 패딩 마스크 사용\n",
    "  padding_mask = tf.keras.Input(shape=(1, 1, None), name=\"padding_mask\")\n",
    "\n",
    "  # 포지셔널 인코딩 + 드롭아웃\n",
    "  embeddings = tf.keras.layers.Embedding(vocab_size, d_model)(inputs)\n",
    "  embeddings *= tf.math.sqrt(tf.cast(d_model, tf.float32))\n",
    "  embeddings = PositionalEncoding(vocab_size, d_model)(embeddings)\n",
    "  outputs = tf.keras.layers.Dropout(rate=dropout)(embeddings)\n",
    "\n",
    "  # 인코더를 num_layers개 쌓기\n",
    "  for i in range(num_layers):\n",
    "    outputs = encoder_layer(dff=dff, d_model=d_model, num_heads=num_heads,\n",
    "        dropout=dropout, name=\"encoder_layer_{}\".format(i),\n",
    "    )([outputs, padding_mask])\n",
    "\n",
    "  return tf.keras.Model(\n",
    "      inputs=[inputs, padding_mask], outputs=outputs, name=name)"
   ],
   "metadata": {
    "collapsed": false
   }
  },
  {
   "cell_type": "code",
   "execution_count": null,
   "outputs": [],
   "source": [
    "# 디코더의 첫번째 서브층(sublayer)에서 미래 토큰을 Mask하는 함수\n",
    "def create_look_ahead_mask(x):\n",
    "  seq_len = tf.shape(x)[1]\n",
    "  look_ahead_mask = 1 - tf.linalg.band_part(tf.ones((seq_len, seq_len)), -1, 0)\n",
    "  padding_mask = create_padding_mask(x) # 패딩 마스크도 포함\n",
    "  return tf.maximum(look_ahead_mask, padding_mask)"
   ],
   "metadata": {
    "collapsed": false
   }
  },
  {
   "cell_type": "code",
   "execution_count": null,
   "outputs": [],
   "source": [
    "# print(create_look_ahead_mask(tf.constant([[1, 2, 0, 4, 5]])))"
   ],
   "metadata": {
    "collapsed": false
   }
  },
  {
   "cell_type": "code",
   "execution_count": null,
   "outputs": [],
   "source": [
    "def decoder_layer(dff, d_model, num_heads, dropout, name=\"decoder_layer\"):\n",
    "  inputs = tf.keras.Input(shape=(None, d_model), name=\"inputs\")\n",
    "  enc_outputs = tf.keras.Input(shape=(None, d_model), name=\"encoder_outputs\")\n",
    "\n",
    "  # 룩어헤드 마스크(첫번째 서브층)\n",
    "  look_ahead_mask = tf.keras.Input(\n",
    "      shape=(1, None, None), name=\"look_ahead_mask\")\n",
    "\n",
    "  # 패딩 마스크(두번째 서브층)\n",
    "  padding_mask = tf.keras.Input(shape=(1, 1, None), name='padding_mask')\n",
    "\n",
    "  # 멀티-헤드 어텐션 (첫번째 서브층 / 마스크드 셀프 어텐션)\n",
    "  attention1 = MultiHeadAttention(\n",
    "      d_model, num_heads, name=\"attention_1\")(inputs={\n",
    "          'query': inputs, 'key': inputs, 'value': inputs, # Q = K = V\n",
    "          'mask': look_ahead_mask # 룩어헤드 마스크\n",
    "      })\n",
    "\n",
    "  # 잔차 연결과 층 정규화\n",
    "  attention1 = tf.keras.layers.LayerNormalization(\n",
    "      epsilon=1e-6)(attention1 + inputs)\n",
    "\n",
    "  # 멀티-헤드 어텐션 (두번째 서브층 / 디코더-인코더 어텐션)\n",
    "  attention2 = MultiHeadAttention(\n",
    "      d_model, num_heads, name=\"attention_2\")(inputs={\n",
    "          'query': attention1, 'key': enc_outputs, 'value': enc_outputs, # Q != K = V\n",
    "          'mask': padding_mask # 패딩 마스크\n",
    "      })\n",
    "\n",
    "  # 드롭아웃 + 잔차 연결과 층 정규화\n",
    "  attention2 = tf.keras.layers.Dropout(rate=dropout)(attention2)\n",
    "  attention2 = tf.keras.layers.LayerNormalization(\n",
    "      epsilon=1e-6)(attention2 + attention1)\n",
    "\n",
    "  # 포지션 와이즈 피드 포워드 신경망 (세번째 서브층)\n",
    "  outputs = tf.keras.layers.Dense(units=dff, activation='relu')(attention2)\n",
    "  outputs = tf.keras.layers.Dense(units=d_model)(outputs)\n",
    "\n",
    "  # 드롭아웃 + 잔차 연결과 층 정규화\n",
    "  outputs = tf.keras.layers.Dropout(rate=dropout)(outputs)\n",
    "  outputs = tf.keras.layers.LayerNormalization(\n",
    "      epsilon=1e-6)(outputs + attention2)\n",
    "\n",
    "  return tf.keras.Model(\n",
    "      inputs=[inputs, enc_outputs, look_ahead_mask, padding_mask],\n",
    "      outputs=outputs,\n",
    "      name=name)"
   ],
   "metadata": {
    "collapsed": false
   }
  },
  {
   "cell_type": "code",
   "execution_count": null,
   "outputs": [],
   "source": [
    "def decoder(vocab_size, num_layers, dff,\n",
    "            d_model, num_heads, dropout,\n",
    "            name='decoder'):\n",
    "  inputs = tf.keras.Input(shape=(None,), name='inputs')\n",
    "  enc_outputs = tf.keras.Input(shape=(None, d_model), name='encoder_outputs')\n",
    "\n",
    "  # 디코더는 룩어헤드 마스크(첫번째 서브층)와 패딩 마스크(두번째 서브층) 둘 다 사용.\n",
    "  look_ahead_mask = tf.keras.Input(\n",
    "      shape=(1, None, None), name='look_ahead_mask')\n",
    "  padding_mask = tf.keras.Input(shape=(1, 1, None), name='padding_mask')\n",
    "\n",
    "  # 포지셔널 인코딩 + 드롭아웃\n",
    "  embeddings = tf.keras.layers.Embedding(vocab_size, d_model)(inputs)\n",
    "  embeddings *= tf.math.sqrt(tf.cast(d_model, tf.float32))\n",
    "  embeddings = PositionalEncoding(vocab_size, d_model)(embeddings)\n",
    "  outputs = tf.keras.layers.Dropout(rate=dropout)(embeddings)\n",
    "\n",
    "  # 디코더를 num_layers개 쌓기\n",
    "  for i in range(num_layers):\n",
    "    outputs = decoder_layer(dff=dff, d_model=d_model, num_heads=num_heads,\n",
    "        dropout=dropout, name='decoder_layer_{}'.format(i),\n",
    "    )(inputs=[outputs, enc_outputs, look_ahead_mask, padding_mask])\n",
    "\n",
    "  return tf.keras.Model(\n",
    "      inputs=[inputs, enc_outputs, look_ahead_mask, padding_mask],\n",
    "      outputs=outputs,\n",
    "      name=name)"
   ],
   "metadata": {
    "collapsed": false
   }
  },
  {
   "cell_type": "code",
   "execution_count": null,
   "outputs": [],
   "source": [
    "def transformer(vocab_size, num_layers, dff,\n",
    "                d_model, num_heads, dropout,\n",
    "                name=\"transformer\"):\n",
    "\n",
    "  # 인코더의 입력\n",
    "  inputs = tf.keras.Input(shape=(None,), name=\"inputs\")\n",
    "\n",
    "  # 디코더의 입력\n",
    "  dec_inputs = tf.keras.Input(shape=(None,), name=\"dec_inputs\")\n",
    "\n",
    "  # 인코더의 패딩 마스크\n",
    "  enc_padding_mask = tf.keras.layers.Lambda(\n",
    "      create_padding_mask, output_shape=(1, 1, None),\n",
    "      name='enc_padding_mask')(inputs)\n",
    "\n",
    "  # 디코더의 룩어헤드 마스크(첫번째 서브층)\n",
    "  look_ahead_mask = tf.keras.layers.Lambda(\n",
    "      create_look_ahead_mask, output_shape=(1, None, None),\n",
    "      name='look_ahead_mask')(dec_inputs)\n",
    "\n",
    "  # 디코더의 패딩 마스크(두번째 서브층)\n",
    "  dec_padding_mask = tf.keras.layers.Lambda(\n",
    "      create_padding_mask, output_shape=(1, 1, None),\n",
    "      name='dec_padding_mask')(inputs)\n",
    "\n",
    "  # 인코더의 출력은 enc_outputs. 디코더로 전달된다.\n",
    "  enc_outputs = encoder(vocab_size=vocab_size, num_layers=num_layers, dff=dff,\n",
    "      d_model=d_model, num_heads=num_heads, dropout=dropout,\n",
    "  )(inputs=[inputs, enc_padding_mask]) # 인코더의 입력은 입력 문장과 패딩 마스크\n",
    "\n",
    "  # 디코더의 출력은 dec_outputs. 출력층으로 전달된다.\n",
    "  dec_outputs = decoder(vocab_size=vocab_size, num_layers=num_layers, dff=dff,\n",
    "      d_model=d_model, num_heads=num_heads, dropout=dropout,\n",
    "  )(inputs=[dec_inputs, enc_outputs, look_ahead_mask, dec_padding_mask])\n",
    "\n",
    "  # 다음 단어 예측을 위한 출력층\n",
    "  outputs = tf.keras.layers.Dense(units=vocab_size, name=\"outputs\")(dec_outputs)\n",
    "\n",
    "  return tf.keras.Model(inputs=[inputs, dec_inputs], outputs=outputs, name=name)"
   ],
   "metadata": {
    "collapsed": false
   }
  },
  {
   "cell_type": "code",
   "execution_count": null,
   "outputs": [],
   "source": [
    "def loss_function(y_true, y_pred):\n",
    "  y_true = tf.reshape(y_true, shape=(-1, MAX_LENGTH - 1))\n",
    "\n",
    "  loss = tf.keras.losses.SparseCategoricalCrossentropy(\n",
    "      from_logits=True, reduction='none')(y_true, y_pred)\n",
    "\n",
    "  mask = tf.cast(tf.not_equal(y_true, 0), tf.float32)\n",
    "  loss = tf.multiply(loss, mask)\n",
    "\n",
    "  return tf.reduce_mean(loss)\n",
    "\n",
    "class CustomSchedule(tf.keras.optimizers.schedules.LearningRateSchedule):\n",
    "\n",
    "    def __init__(self, d_model, warmup_steps=4000):\n",
    "        super(CustomSchedule, self).__init__()\n",
    "        self.d_model = d_model\n",
    "        self.d_model = tf.cast(self.d_model, tf.float32)\n",
    "        self.warmup_steps = warmup_steps\n",
    "\n",
    "    def get_config(self):\n",
    "        config = {\n",
    "          'd_model': self.d_model,\n",
    "          'warmup_steps': self.warmup_steps,\n",
    "        }\n",
    "        return config\n",
    "\n",
    "    def __call__(self, step):\n",
    "        step = tf.cast(step, tf.float32)  #####\n",
    "        arg1 = tf.math.rsqrt(step)\n",
    "        arg2 = step * (self.warmup_steps**-1.5)\n",
    "\n",
    "        return tf.math.rsqrt(self.d_model) * tf.math.minimum(arg1, arg2)\n",
    "\n",
    "tf.keras.backend.clear_session()\n",
    "\n",
    "# 하이퍼파라미터\n",
    "D_MODEL = 256\n",
    "NUM_LAYERS = 2\n",
    "NUM_HEADS = 8\n",
    "DFF = 512\n",
    "DROPOUT = 0.1\n",
    "\n",
    "model = transformer(\n",
    "    vocab_size=VOCAB_SIZE,\n",
    "    num_layers=NUM_LAYERS,\n",
    "    dff=DFF,\n",
    "    d_model=D_MODEL,\n",
    "    num_heads=NUM_HEADS,\n",
    "    dropout=DROPOUT)\n",
    "\n",
    "from keras.callbacks import ModelCheckpoint\n",
    "\n",
    "learning_rate = CustomSchedule(D_MODEL)\n",
    "# learning_rate = customSchedule()\n",
    "\n",
    "optimizer = tf.keras.optimizers.Adam(\n",
    "    learning_rate, beta_1=0.9, beta_2=0.98, epsilon=1e-9)\n",
    "\n",
    "def accuracy(y_true, y_pred):\n",
    "  # 레이블의 크기는 (batch_size, MAX_LENGTH - 1)\n",
    "  y_true = tf.reshape(y_true, shape=(-1, MAX_LENGTH - 1))\n",
    "  return tf.keras.metrics.sparse_categorical_accuracy(y_true, y_pred)\n",
    "\n",
    "model.compile(optimizer=optimizer, loss=loss_function, metrics=[accuracy])"
   ],
   "metadata": {
    "collapsed": false
   }
  },
  {
   "cell_type": "code",
   "execution_count": null,
   "outputs": [],
   "source": [],
   "metadata": {
    "collapsed": false
   }
  },
  {
   "cell_type": "code",
   "execution_count": null,
   "outputs": [],
   "source": [
    "# def customSchedule():\n",
    "#     initial_learning_rate = 0.1\n",
    "#     lr_schedule = tf.keras.optimizers.schedules.ExponentialDecay(\n",
    "#         initial_learning_rate,\n",
    "#         decay_steps=100000,\n",
    "#         decay_rate=0.96,\n",
    "#         staircase=True)\n",
    "#\n",
    "#     return lr_schedule\n"
   ],
   "metadata": {
    "collapsed": false
   }
  },
  {
   "cell_type": "code",
   "execution_count": null,
   "outputs": [],
   "source": [],
   "metadata": {
    "collapsed": false
   }
  },
  {
   "cell_type": "code",
   "execution_count": null,
   "outputs": [],
   "source": [],
   "metadata": {
    "collapsed": false
   }
  },
  {
   "cell_type": "code",
   "execution_count": null,
   "outputs": [],
   "source": [
    "def preprocess_sentence(sentence):\n",
    "  # 단어와 구두점 사이에 공백 추가.\n",
    "  # ex) 12시 땡! -> 12시 땡 !\n",
    "  sentence = re.sub(r\"([?.!,])\", r\" \\1 \", sentence)\n",
    "  sentence = sentence.strip()\n",
    "  return sentence"
   ],
   "metadata": {
    "collapsed": false
   }
  },
  {
   "cell_type": "code",
   "execution_count": null,
   "outputs": [],
   "source": [
    "def evaluate(sentence):\n",
    "  # 입력 문장에 대한 전처리\n",
    "  sentence = preprocess_sentence(sentence)\n",
    "  print(sentence)\n",
    "\n",
    "  # 입력 문장에 시작 토큰과 종료 토큰을 추가\n",
    "  sentence = tf.expand_dims(\n",
    "      START_TOKEN + tokenizer.encode(sentence) + END_TOKEN, axis=0)\n",
    "\n",
    "  output = tf.expand_dims(START_TOKEN, 0)\n",
    "\n",
    "  print('=====sentence=====', sentence)\n",
    "  print('=====output=====', output)\n",
    "  # 디코더의 예측 시작\n",
    "  for i in range(MAX_LENGTH):\n",
    "    predictions = model(inputs=[sentence, output], training=False)\n",
    "\n",
    "    # 현재 시점의 예측 단어를 받아온다.\n",
    "    predictions = predictions[:, -1:, :]\n",
    "    print('=====predictions=====\\n', predictions)\n",
    "    predicted_id = tf.cast(tf.argmax(predictions, axis=-1), tf.int32)\n",
    "\n",
    "    # 만약 현재 시점의 예측 단어가 종료 토큰이라면 예측을 중단\n",
    "    if tf.equal(predicted_id, END_TOKEN[0]):\n",
    "      break\n",
    "\n",
    "    # 현재 시점의 예측 단어를 output(출력)에 연결한다.\n",
    "    # output은 for문의 다음 루       프에서 디코더의 입력이 된다.\n",
    "    output = tf.concat([output, predicted_id], axis=-1)\n",
    "    print('=====output=====\\n', output)\n",
    "  # 단어 예측이 모두 끝났다면 output을 리턴.\n",
    "  return tf.squeeze(output, axis=0)"
   ],
   "metadata": {
    "collapsed": false
   }
  },
  {
   "cell_type": "code",
   "execution_count": null,
   "outputs": [],
   "source": [
    "def predict(sentence):\n",
    "  prediction = evaluate(sentence)\n",
    "\n",
    "  # prediction == 디코더가 리턴한 챗봇의 대답에 해당하는 정수 시퀀스\n",
    "  # tokenizer.decode()를 통해 정수 시퀀스를 문자열로 디코딩.\n",
    "  predicted_sentence = tokenizer.decode(\n",
    "      [i for i in prediction if i < tokenizer.vocab_size])\n",
    "\n",
    "  print('Input: {}'.format(sentence))\n",
    "  print('Output: {}'.format(predicted_sentence))\n",
    "\n",
    "  return predicted_sentence"
   ],
   "metadata": {
    "collapsed": false
   }
  },
  {
   "cell_type": "code",
   "execution_count": null,
   "outputs": [],
   "source": [
    "'''No checkpoint'''\n",
    "def train_model(epochs=50, mini_epoch=10):\n",
    "    epoch_saved_path = './checkpoints/weights/epoch_saved.txt'\n",
    "    if os.path.isfile(epoch_saved_path):\n",
    "        with open(epoch_saved_path, 'r', encoding='utf-8') as f:\n",
    "            total_epoch = int(f.read())\n",
    "    else:\n",
    "        total_epoch = 0\n",
    "\n",
    "    # 학습된 최근 모델 불러오기\n",
    "    model_path = f'checkpoints/weights/transformer_weight{total_epoch}.h5'\n",
    "    sample_model_path = f'save/weights/model_sample.h5'\n",
    "    if os.path.isfile(model_path):\n",
    "        model.load_weights(model_path)\n",
    "        print(f'{total_epoch}에폭 모델을 사용해 계속 학습합니다.')\n",
    "    elif os.path.isfile(sample_model_path):\n",
    "        model.load_weights(sample_model_path)\n",
    "        print('저성능 샘플 모델을 사용해 학습합니다.')\n",
    "    else:\n",
    "        print('저장된 가중치가 없어 처음부터 학습합니다.')\n",
    "\n",
    "    early_stopping = tf.keras.callbacks.EarlyStopping(monitor='loss', patience=3)\n",
    "    EPOCHS = 100\n",
    "    mini_epoch = 10\n",
    "\n",
    "    for e in range(int(EPOCHS/mini_epoch)):\n",
    "        model.fit(dataset, epochs=mini_epoch, workers=-1, callbacks=[early_stopping])\n",
    "        total_epoch += mini_epoch\n",
    "        with open(epoch_saved_path, 'w', encoding='utf-8') as f:\n",
    "            f.write(str(total_epoch))\n",
    "        print('>'*20, '샘플 예측', '<'*20)\n",
    "        output = predict(\"오늘 엄마랑 에버랜드 갔다왔어.\")\n",
    "        print('>'*50)\n",
    "\n",
    "        if total_epoch % 5 == 0:\n",
    "            model_path = f'checkpoints/weights/transformer_weight{total_epoch}.h5'\n",
    "            model.save_weights(model_path)"
   ],
   "metadata": {
    "collapsed": false
   }
  },
  {
   "cell_type": "code",
   "execution_count": null,
   "outputs": [],
   "source": [
    "train_model(epochs=30)"
   ],
   "metadata": {
    "collapsed": false
   }
  },
  {
   "cell_type": "code",
   "execution_count": null,
   "outputs": [],
   "source": [
    "# checkpoint = tf.train.Checkpoint(optimizer=optimizer, model=model)\n",
    "# # 모델 저장 문제 - unable to serialize to json -> eagerTensor type\n",
    "# model.save(f'checkpoints/transformer_model_vanila_{EPOCHS}.h5')\n",
    "\n",
    "# 모델 가중치 저장\n",
    "\n",
    "# model.save_weights(f'checkpoints/transformer_weight_vanila{EPOCHS}')"
   ],
   "metadata": {
    "collapsed": false
   }
  },
  {
   "cell_type": "code",
   "execution_count": null,
   "outputs": [],
   "source": [
    "# model.save_weights(f'checkpoints/transformer_weight{EPOCHS}.h5')\n",
    "# model.save_weights(f'checkpoints/transformer_weight_no_loss_{EPOCHS}')"
   ],
   "metadata": {
    "collapsed": false
   }
  },
  {
   "cell_type": "code",
   "execution_count": null,
   "outputs": [],
   "source": [
    "# # # 비상저장\n",
    "# model.compile(optimizer=optimizer, loss=None)\n",
    "# model.save_weights(f'checkpoints/transformer_weight_no_loss_complied_h5{EPOCHS}.h5')\n",
    "# model.save_weights(f'checkpoints/transformer_weight_no_loss_compiled{EPOCHS}')"
   ],
   "metadata": {
    "collapsed": false
   }
  },
  {
   "cell_type": "code",
   "execution_count": null,
   "outputs": [],
   "source": [
    "# '''테스트중'''\n",
    "# epoch_saved_path = './checkpoints/epoch_saved2.txt'\n",
    "# if os.path.isfile(epoch_saved_path):\n",
    "#     with open(epoch_saved_path, 'r', encoding='utf-8') as f:\n",
    "#         epoch_saved = int(f.read())\n",
    "# else:\n",
    "#     epoch_saved = 0\n",
    "#\n",
    "# EPOCHS = 1\n",
    "# filename = './checkpoints/checkpoint-epoch-{}-batch-{}.ckpt'.format(EPOCHS, BATCH_SIZE)\n",
    "# checkpoint = ModelCheckpoint(filename,\n",
    "#                              monitor='loss',\n",
    "#                              verbose=1,\n",
    "#                              # save_best_only=True,\n",
    "#                              # save_weights_only=True,\n",
    "#                              mode='auto',\n",
    "#                             )\n",
    "# early_stopping = tf.keras.callbacks.EarlyStopping(monitor='loss', patience=3)\n",
    "#\n",
    "# if tf.train.latest_checkpoint('./checkpoints/'):\n",
    "#     latest = tf.train.latest_checkpoint('./checkpoints/')\n",
    "#     # 단어 임베딩 차원크기가 바뀌어서(vocab size를 늘리는 등) 저장된 파라미터와 shape안맞으면 에러발생\n",
    "#     model.load_weights(latest)\n",
    "#     print('존재하는 체크포인트로 학습진행 > ', latest)\n",
    "# else:\n",
    "#     print('저장된 체크포인트 없이 학습을 진행합니다')\n",
    "#\n",
    "# for e in range(EPOCHS):\n",
    "#     model.fit(dataset, epochs=1, workers=-1, callbacks=[checkpoint, early_stopping])\n",
    "#     epoch_saved += 1\n",
    "#     with open('./checkpoints/epoch_saved2.txt', 'w', encoding='utf-8') as f:\n",
    "#         f.write(str(epoch_saved))\n",
    "#     print('>'*20, '샘플 예측', '<'*20)\n",
    "#     output = predict(\"오늘 엄마랑 롯데월드 갔다왔어.\")\n",
    "#     print('>'*50)\n",
    "#\n",
    "#\n",
    "# model.compile(optimizer=optimizer, loss=None)\n",
    "# model.save('checkpoints/transformer_model__babo.h5')\n",
    "# # 모델 가중치 저장\n",
    "# model.save_weights('checkpoints/transformer_weight__babo')"
   ],
   "metadata": {
    "collapsed": false
   }
  },
  {
   "cell_type": "code",
   "execution_count": null,
   "outputs": [],
   "source": [
    "# epoch_saved_path = './checkpoints/epoch_saved.txt'\n",
    "# if os.path.isfile(epoch_saved_path):\n",
    "#     with open(epoch_saved_path, 'r', encoding='utf-8') as f:\n",
    "#         epoch_saved = int(f.read())\n",
    "# else:\n",
    "#     epoch_saved = 0\n",
    "#\n",
    "# EPOCHS = 100\n",
    "# filename = './checkpoints/checkpoint-epoch-{}-batch-{}.ckpt'.format(EPOCHS, BATCH_SIZE)\n",
    "# checkpoint = ModelCheckpoint(filename,\n",
    "#                              monitor='loss',\n",
    "#                              verbose=1,\n",
    "#                              save_best_only=True,\n",
    "#                              save_weights_only=True,\n",
    "#                              mode='auto',\n",
    "#                             )\n",
    "# early_stopping = tf.keras.callbacks.EarlyStopping(monitor='loss', patience=3)\n",
    "#\n",
    "# if tf.train.latest_checkpoint('./checkpoints/'):\n",
    "#     latest = tf.train.latest_checkpoint('./checkpoints/')\n",
    "#     # 단어 임베딩 차원크기가 바뀌어서(vocab size를 늘리는 등) 저장된 파라미터와 shape안맞으면 에러발생\n",
    "#     model.load_weights(latest)\n",
    "#     print('존재하는 체크포인트로 학습진행 > ', latest)\n",
    "# else:\n",
    "#     print('저장된 체크포인트 없이 학습을 진행합니다')\n",
    "#\n",
    "# for e in range(0, int(EPOCHS/5)):\n",
    "#     model.fit(dataset, epochs=5, workers=-1, callbacks=[checkpoint, early_stopping])\n",
    "#     epoch_saved += 5\n",
    "#     with open('./checkpoints/epoch_saved2.txt', 'w', encoding='utf-8') as f:\n",
    "#         f.write(str(epoch_saved))\n",
    "#     print('>'*20, '샘플 예측', '<'*20)\n",
    "#     output = predict(\"오늘 엄마랑 롯데월드 갔다왔어.\")\n",
    "#     print('>'*50)"
   ],
   "metadata": {
    "collapsed": false
   }
  },
  {
   "cell_type": "code",
   "execution_count": null,
   "outputs": [],
   "source": [
    "model.summary()"
   ],
   "metadata": {
    "collapsed": false
   }
  },
  {
   "cell_type": "code",
   "execution_count": null,
   "outputs": [],
   "source": [
    "# print(total_epoch)\n",
    "output = predict(\"비가 와서 날씨가 흐린데 그래도 나는 기분이 좋아.\")\n",
    "# output = predict(\"아 화난다.\")\n",
    "# output = predict(\"나 엄마보러 제주도에 가고싶어.\")\n",
    "# output = predict(\"너 맞을래?\")"
   ],
   "metadata": {
    "collapsed": false
   }
  },
  {
   "cell_type": "code",
   "execution_count": 1,
   "outputs": [
    {
     "ename": "NameError",
     "evalue": "name 'model' is not defined",
     "output_type": "error",
     "traceback": [
      "\u001B[1;31m---------------------------------------------------------------------------\u001B[0m",
      "\u001B[1;31mNameError\u001B[0m                                 Traceback (most recent call last)",
      "Cell \u001B[1;32mIn[1], line 1\u001B[0m\n\u001B[1;32m----> 1\u001B[0m \u001B[43mmodel\u001B[49m\u001B[38;5;241m.\u001B[39mload_weights(\u001B[38;5;124mr\u001B[39m\u001B[38;5;124m'\u001B[39m\u001B[38;5;124mD:\u001B[39m\u001B[38;5;124m\\\u001B[39m\u001B[38;5;124mbanimo_diary\u001B[39m\u001B[38;5;124m\\\u001B[39m\u001B[38;5;124mmodels\u001B[39m\u001B[38;5;124m\\\u001B[39m\u001B[38;5;124msave\u001B[39m\u001B[38;5;124m\\\u001B[39m\u001B[38;5;124mweights\u001B[39m\u001B[38;5;124m\\\u001B[39m\u001B[38;5;124mtransformer_weight100.h5\u001B[39m\u001B[38;5;124m'\u001B[39m)\n\u001B[0;32m      2\u001B[0m output \u001B[38;5;241m=\u001B[39m predict(\u001B[38;5;124m'\u001B[39m\u001B[38;5;124m아주 지긋지긋해!\u001B[39m\u001B[38;5;124m'\u001B[39m)\n",
      "\u001B[1;31mNameError\u001B[0m: name 'model' is not defined"
     ]
    }
   ],
   "source": [
    "model.load_weights(r'D:\\banimo_diary\\models\\save\\weights\\transformer_weight100.h5')\n",
    "output = predict('아주 지긋지긋해!')"
   ],
   "metadata": {
    "collapsed": false,
    "ExecuteTime": {
     "end_time": "2023-08-25T05:31:13.217434500Z",
     "start_time": "2023-08-25T05:31:12.811207100Z"
    }
   }
  },
  {
   "cell_type": "code",
   "execution_count": null,
   "outputs": [],
   "source": [],
   "metadata": {
    "collapsed": false
   }
  }
 ],
 "metadata": {
  "kernelspec": {
   "display_name": "Python 3",
   "language": "python",
   "name": "python3"
  },
  "language_info": {
   "codemirror_mode": {
    "name": "ipython",
    "version": 2
   },
   "file_extension": ".py",
   "mimetype": "text/x-python",
   "name": "python",
   "nbconvert_exporter": "python",
   "pygments_lexer": "ipython2",
   "version": "2.7.6"
  }
 },
 "nbformat": 4,
 "nbformat_minor": 0
}
