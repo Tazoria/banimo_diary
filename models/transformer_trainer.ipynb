{
 "cells": [
  {
   "cell_type": "code",
   "execution_count": null,
   "metadata": {
    "collapsed": true
   },
   "outputs": [],
   "source": [
    "import pandas as pd\n",
    "import tensorflow as tf\n",
    "from models.utils.Preprocess import Preprocessor\n",
    "from models.transformer.evaluate import Evaluate\n",
    "from models.transformer.train import CustomSchedule, get_model\n",
    "\n",
    "print(tf.__version__)"
   ]
  },
  {
   "cell_type": "code",
   "execution_count": null,
   "outputs": [],
   "source": [
    "train_data = pd.read_csv('../data/ChatbotData_merged.csv')\n",
    "train_data = train_data.dropna()\n",
    "train_data.head()"
   ],
   "metadata": {
    "collapsed": false
   }
  },
  {
   "cell_type": "code",
   "execution_count": null,
   "outputs": [],
   "source": [
    "print('챗봇 샘플의 개수 :', len(train_data))\n",
    "print(train_data.isnull().sum())"
   ],
   "metadata": {
    "collapsed": false
   }
  },
  {
   "cell_type": "code",
   "execution_count": null,
   "outputs": [],
   "source": [
    "questions = train_data['Q'].to_list()\n",
    "answers = train_data['A'].to_list()\n",
    "sentence_list = questions + answers\n",
    "\n",
    "preprocessor = Preprocessor()"
   ],
   "metadata": {
    "collapsed": false
   }
  },
  {
   "cell_type": "code",
   "execution_count": null,
   "outputs": [],
   "source": [
    "# 갑자기 왜 안되지?\n",
    "from utils.load_tokenizer import load_tokenizer\n",
    "\n",
    "tokenizer = load_tokenizer('vocab_32000.txt')\n",
    "print(tokenizer)"
   ],
   "metadata": {
    "collapsed": false
   }
  },
  {
   "cell_type": "code",
   "execution_count": null,
   "outputs": [],
   "source": [
    "# tokenizer = preprocessor.get_tokenizer(sentence_list, target_vocab_size=32000)\n",
    "# print(tokenizer)"
   ],
   "metadata": {
    "collapsed": false
   }
  },
  {
   "cell_type": "code",
   "execution_count": 43,
   "outputs": [
    {
     "ename": "AttributeError",
     "evalue": "'NoneType' object has no attribute 'encode'",
     "output_type": "error",
     "traceback": [
      "\u001B[1;31m---------------------------------------------------------------------------\u001B[0m",
      "\u001B[1;31mAttributeError\u001B[0m                            Traceback (most recent call last)",
      "Cell \u001B[1;32mIn[43], line 1\u001B[0m\n\u001B[1;32m----> 1\u001B[0m questions, answers \u001B[38;5;241m=\u001B[39m \u001B[43mpreprocessor\u001B[49m\u001B[38;5;241;43m.\u001B[39;49m\u001B[43mtokenize_and_filter\u001B[49m\u001B[43m(\u001B[49m\u001B[43mquestions\u001B[49m\u001B[43m,\u001B[49m\u001B[43m \u001B[49m\u001B[43manswers\u001B[49m\u001B[43m)\u001B[49m\n\u001B[0;32m      3\u001B[0m \u001B[38;5;28mprint\u001B[39m(\u001B[38;5;124m'\u001B[39m\u001B[38;5;124m질문 데이터의 크기(shape) :\u001B[39m\u001B[38;5;124m'\u001B[39m, questions\u001B[38;5;241m.\u001B[39mshape)\n\u001B[0;32m      4\u001B[0m \u001B[38;5;28mprint\u001B[39m(\u001B[38;5;124m'\u001B[39m\u001B[38;5;124m답변 데이터의 크기(shape) :\u001B[39m\u001B[38;5;124m'\u001B[39m, answers\u001B[38;5;241m.\u001B[39mshape)\n",
      "File \u001B[1;32mD:\\banimo_diary\\models\\utils\\Preprocess.py:58\u001B[0m, in \u001B[0;36mPreprocessor.tokenize_and_filter\u001B[1;34m(self, inputs, outputs)\u001B[0m\n\u001B[0;32m     54\u001B[0m tokenized_inputs, tokenized_outputs \u001B[38;5;241m=\u001B[39m [], []\n\u001B[0;32m     56\u001B[0m \u001B[38;5;28;01mfor\u001B[39;00m (sentence1, sentence2) \u001B[38;5;129;01min\u001B[39;00m \u001B[38;5;28mzip\u001B[39m(inputs, outputs):\n\u001B[0;32m     57\u001B[0m   \u001B[38;5;66;03m# encode(토큰화 + 정수 인코딩), 시작 토큰과 종료 토큰 추가\u001B[39;00m\n\u001B[1;32m---> 58\u001B[0m   sentence1 \u001B[38;5;241m=\u001B[39m \u001B[38;5;28mself\u001B[39m\u001B[38;5;241m.\u001B[39mSTART_TOKEN \u001B[38;5;241m+\u001B[39m \u001B[38;5;28;43mself\u001B[39;49m\u001B[38;5;241;43m.\u001B[39;49m\u001B[43mtokenizer\u001B[49m\u001B[38;5;241;43m.\u001B[39;49m\u001B[43mencode\u001B[49m(sentence1) \u001B[38;5;241m+\u001B[39m \u001B[38;5;28mself\u001B[39m\u001B[38;5;241m.\u001B[39mEND_TOKEN\n\u001B[0;32m     59\u001B[0m   sentence2 \u001B[38;5;241m=\u001B[39m \u001B[38;5;28mself\u001B[39m\u001B[38;5;241m.\u001B[39mSTART_TOKEN \u001B[38;5;241m+\u001B[39m \u001B[38;5;28mself\u001B[39m\u001B[38;5;241m.\u001B[39mtokenizer\u001B[38;5;241m.\u001B[39mencode(sentence2) \u001B[38;5;241m+\u001B[39m \u001B[38;5;28mself\u001B[39m\u001B[38;5;241m.\u001B[39mEND_TOKEN\n\u001B[0;32m     61\u001B[0m   tokenized_inputs\u001B[38;5;241m.\u001B[39mappend(sentence1)\n",
      "\u001B[1;31mAttributeError\u001B[0m: 'NoneType' object has no attribute 'encode'"
     ]
    }
   ],
   "source": [
    "questions, answers = preprocessor.tokenize_and_filter(questions, answers, tokenizer)\n",
    "\n",
    "print('질문 데이터의 크기(shape) :', questions.shape)\n",
    "print('답변 데이터의 크기(shape) :', answers.shape)\n",
    "\n",
    "# 0번 샘플을 임의로 출력\n",
    "print(questions[0])\n",
    "print(answers[0])"
   ],
   "metadata": {
    "collapsed": false,
    "ExecuteTime": {
     "end_time": "2023-08-28T10:46:15.559026600Z",
     "start_time": "2023-08-28T10:46:15.517095600Z"
    }
   }
  },
  {
   "cell_type": "code",
   "execution_count": null,
   "outputs": [],
   "source": [
    "dataset = preprocessor.get_train_dataset(questions, answers, batch_size=256, buffer_size=20000)"
   ],
   "metadata": {
    "collapsed": false
   }
  },
  {
   "cell_type": "code",
   "execution_count": null,
   "outputs": [],
   "source": [
    "NUM_LAYERS = 8\n",
    "model = get_model(\n",
    "    vocab_size=tokenizer.vocab_size+2,\n",
    "    num_layers=4,\n",
    "    dff=512,\n",
    "    d_model=256,\n",
    "    num_heads=NUM_LAYERS,\n",
    "    dropout=0.2)\n",
    "\n",
    "\n",
    "def loss_function(y_true, y_pred):\n",
    "  y_true = tf.reshape(y_true, shape=(-1, preprocessor.MAX_LENGTH-1))\n",
    "\n",
    "  loss = tf.keras.losses.SparseCategoricalCrossentropy(\n",
    "    from_logits=True, reduction='none')(y_true, y_pred)\n",
    "\n",
    "  mask = tf.cast(tf.not_equal(y_true, 0), tf.float32)\n",
    "  loss = tf.multiply(loss, mask)\n",
    "\n",
    "  return tf.reduce_mean(loss)\n",
    "\n",
    "\n",
    "def accuracy(y_true, y_pred):\n",
    "  # 레이블의 크기는 (batch_size, MAX_LENGTH - 1)\n",
    "  y_true = tf.reshape(y_true, shape=(-1, preprocessor.MAX_LENGTH-1))\n",
    "  return tf.keras.metrics.sparse_categorical_accuracy(y_true, y_pred)\n",
    "\n",
    "learning_rate = CustomSchedule(d_model=256)\n",
    "\n",
    "\n",
    "optimizer = tf.keras.optimizers.Adam(\n",
    "    learning_rate, beta_1=0.9, beta_2=0.98, epsilon=1e-9)\n",
    "\n",
    "model.compile(optimizer=optimizer, loss=loss_function, metrics=[accuracy])"
   ],
   "metadata": {
    "collapsed": false
   }
  },
  {
   "cell_type": "code",
   "execution_count": null,
   "outputs": [],
   "source": [
    "'''No checkpoint'''\n",
    "def train_model(epochs=50, mini_epoch=10, is_contiune=False):\n",
    "    epoch_saved_path = f'./checkpoints/weights/vocab_{tokenizer.vocab_size}_layers_{NUM_LAYERS}_epoch_saved.txt'\n",
    "    # 저장된 모델이 있는 경우\n",
    "    if is_contiune:\n",
    "        with open(epoch_saved_path, 'r', encoding='utf-8') as f:\n",
    "            total_epoch = int(f.read())\n",
    "        model_path = f'checkpoints/weights/transformer_weight_vocab_{tokenizer.vocab_size}_layers_{NUM_LAYERS}_{total_epoch}.h5'\n",
    "        model.load_weights(model_path)\n",
    "        print(f\"{model_path.replace('checkpoints/weights/', '')} 모델을 사용해 계속 학습합니다.\")\n",
    "    else:\n",
    "        total_epoch = 0\n",
    "        print('저장된 가중치가 없어 처음부터 학습합니다.')\n",
    "\n",
    "    early_stopping = tf.keras.callbacks.EarlyStopping(monitor='loss', patience=3)\n",
    "    EPOCHS = 100\n",
    "    mini_epoch = 10\n",
    "\n",
    "    evaluate = Evaluate(model, tokenizer)\n",
    "    for e in range(int(EPOCHS/mini_epoch)):\n",
    "        model.fit(dataset, epochs=mini_epoch, workers=-1, callbacks=[early_stopping])\n",
    "        total_epoch += mini_epoch\n",
    "        with open(epoch_saved_path, 'w', encoding='utf-8') as f:\n",
    "            f.write(str(total_epoch))\n",
    "        print('>'*20, '샘플 예측', '<'*20)\n",
    "        sample_sentence = \"오늘 엄마랑 에버랜드 갔다왔어.\"\n",
    "        evaluate.predict(sample_sentence)\n",
    "        print('>'*50)\n",
    "\n",
    "        if total_epoch % 5 == 0:\n",
    "            model_path =  f'checkpoints/weights/transformer_weight_vocab_{tokenizer.vocab_size}_layers_{NUM_LAYERS}_{total_epoch}.h5'\n",
    "            model.save_weights(model_path)"
   ],
   "metadata": {
    "collapsed": false
   }
  },
  {
   "cell_type": "code",
   "execution_count": null,
   "outputs": [],
   "source": [
    "tf.keras.backend.clear_session()\n",
    "train_model(epochs=20)"
   ],
   "metadata": {
    "collapsed": false
   }
  },
  {
   "cell_type": "code",
   "execution_count": null,
   "outputs": [],
   "source": [
    "model.summary()"
   ],
   "metadata": {
    "collapsed": false
   }
  }
 ],
 "metadata": {
  "kernelspec": {
   "display_name": "Python 3",
   "language": "python",
   "name": "python3"
  },
  "language_info": {
   "codemirror_mode": {
    "name": "ipython",
    "version": 2
   },
   "file_extension": ".py",
   "mimetype": "text/x-python",
   "name": "python",
   "nbconvert_exporter": "python",
   "pygments_lexer": "ipython2",
   "version": "2.7.6"
  }
 },
 "nbformat": 4,
 "nbformat_minor": 0
}
