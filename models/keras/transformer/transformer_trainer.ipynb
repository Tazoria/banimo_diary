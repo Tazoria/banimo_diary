{
 "cells": [
  {
   "cell_type": "code",
   "execution_count": 1,
   "metadata": {
    "collapsed": true,
    "ExecuteTime": {
     "end_time": "2023-08-31T00:44:52.312151900Z",
     "start_time": "2023-08-31T00:44:47.847830700Z"
    }
   },
   "outputs": [
    {
     "name": "stdout",
     "output_type": "stream",
     "text": [
      "2.8.0\n"
     ]
    }
   ],
   "source": [
    "import pandas as pd\n",
    "import tensorflow as tf\n",
    "from models.utils.Preprocess import Preprocessor\n",
    "from models.pytransformer.evaluate import Evaluate\n",
    "from models.transformer.train import CustomSchedule, get_model\n",
    "\n",
    "print(tf.__version__)"
   ]
  },
  {
   "cell_type": "code",
   "execution_count": 2,
   "outputs": [
    {
     "data": {
      "text/plain": "                                                   Q  \\\n0           아기에게 죄책감이 들지 않도록 공부와 일을 병행하면서 최선을 다할 거야.   \n1                      아내와 앞으로도 같은 취미생활을 더 많이 하려고 해.   \n2                아직 모르셔. 하루 속히 정리 하실 수 있도록 납득 해 보려고.   \n3  나 노후준비로 연금을 들었는데 수익률이 너무 저조한 거야. 이러다가 은퇴 후 돈이 ...   \n4                      우리 막내가 중학교 이 학년인데 요즘 정말 말썽이야.   \n\n                                                 A         label  \n0                          지금의 다짐으로 상황이 나아지면 좋겠네요.   embarrassed  \n1                      아내와 함께 즐거운 취미생활이 되었으면 좋겠어요.         happy  \n2                                 설득이 잘 되셨으면 바랄게요.  broken_heart  \n3         연금 수익률이 너무 저조해서 기분이 안 좋으시군요. 걱정이 많으시겠어요.  broken_heart  \n4  막내가 그 유명한 중학교 이 학년이군요. 어떻게 말썽부리는지 얘기해주실 수 있을까요?         angry  ",
      "text/html": "<div>\n<style scoped>\n    .dataframe tbody tr th:only-of-type {\n        vertical-align: middle;\n    }\n\n    .dataframe tbody tr th {\n        vertical-align: top;\n    }\n\n    .dataframe thead th {\n        text-align: right;\n    }\n</style>\n<table border=\"1\" class=\"dataframe\">\n  <thead>\n    <tr style=\"text-align: right;\">\n      <th></th>\n      <th>Q</th>\n      <th>A</th>\n      <th>label</th>\n    </tr>\n  </thead>\n  <tbody>\n    <tr>\n      <th>0</th>\n      <td>아기에게 죄책감이 들지 않도록 공부와 일을 병행하면서 최선을 다할 거야.</td>\n      <td>지금의 다짐으로 상황이 나아지면 좋겠네요.</td>\n      <td>embarrassed</td>\n    </tr>\n    <tr>\n      <th>1</th>\n      <td>아내와 앞으로도 같은 취미생활을 더 많이 하려고 해.</td>\n      <td>아내와 함께 즐거운 취미생활이 되었으면 좋겠어요.</td>\n      <td>happy</td>\n    </tr>\n    <tr>\n      <th>2</th>\n      <td>아직 모르셔. 하루 속히 정리 하실 수 있도록 납득 해 보려고.</td>\n      <td>설득이 잘 되셨으면 바랄게요.</td>\n      <td>broken_heart</td>\n    </tr>\n    <tr>\n      <th>3</th>\n      <td>나 노후준비로 연금을 들었는데 수익률이 너무 저조한 거야. 이러다가 은퇴 후 돈이 ...</td>\n      <td>연금 수익률이 너무 저조해서 기분이 안 좋으시군요. 걱정이 많으시겠어요.</td>\n      <td>broken_heart</td>\n    </tr>\n    <tr>\n      <th>4</th>\n      <td>우리 막내가 중학교 이 학년인데 요즘 정말 말썽이야.</td>\n      <td>막내가 그 유명한 중학교 이 학년이군요. 어떻게 말썽부리는지 얘기해주실 수 있을까요?</td>\n      <td>angry</td>\n    </tr>\n  </tbody>\n</table>\n</div>"
     },
     "execution_count": 2,
     "metadata": {},
     "output_type": "execute_result"
    }
   ],
   "source": [
    "train_data = pd.read_csv('../data/ChatbotData_merged.csv')\n",
    "train_data = train_data.dropna()\n",
    "train_data = train_data.sample(frac=1).reset_index(drop=True)\n",
    "train_data.head()"
   ],
   "metadata": {
    "collapsed": false,
    "ExecuteTime": {
     "end_time": "2023-08-31T00:44:53.045890800Z",
     "start_time": "2023-08-31T00:44:52.312151900Z"
    }
   }
  },
  {
   "cell_type": "code",
   "execution_count": 3,
   "outputs": [
    {
     "name": "stdout",
     "output_type": "stream",
     "text": [
      "챗봇 샘플의 개수 : 157771\n",
      "Q        0\n",
      "A        0\n",
      "label    0\n",
      "dtype: int64\n"
     ]
    }
   ],
   "source": [
    "print('챗봇 샘플의 개수 :', len(train_data))\n",
    "print(train_data.isnull().sum())"
   ],
   "metadata": {
    "collapsed": false,
    "ExecuteTime": {
     "end_time": "2023-08-31T00:44:53.192591200Z",
     "start_time": "2023-08-31T00:44:53.045890800Z"
    }
   }
  },
  {
   "cell_type": "code",
   "execution_count": 4,
   "outputs": [],
   "source": [
    "questions = train_data['Q'].to_list()\n",
    "answers = train_data['A'].to_list()\n",
    "sentence_list = questions + answers\n",
    "\n",
    "preprocessor = Preprocessor()"
   ],
   "metadata": {
    "collapsed": false,
    "ExecuteTime": {
     "end_time": "2023-08-31T00:44:53.192591200Z",
     "start_time": "2023-08-31T00:44:53.114512100Z"
    }
   }
  },
  {
   "cell_type": "code",
   "execution_count": 6,
   "outputs": [
    {
     "name": "stdout",
     "output_type": "stream",
     "text": [
      "<SubwordTextEncoder vocab_size=31960>\n"
     ]
    }
   ],
   "source": [
    "from models.utils.load_tokenizer import load_tokenizer\n",
    "\n",
    "tokenizer = load_tokenizer('vocab_32000.txt')\n",
    "print(tokenizer)"
   ],
   "metadata": {
    "collapsed": false,
    "ExecuteTime": {
     "end_time": "2023-08-30T07:12:00.788810700Z",
     "start_time": "2023-08-30T07:11:59.709125300Z"
    }
   }
  },
  {
   "cell_type": "code",
   "execution_count": 6,
   "outputs": [
    {
     "name": "stdout",
     "output_type": "stream",
     "text": [
      "<SubwordTextEncoder vocab_size=8247>\n"
     ]
    }
   ],
   "source": [
    "tokenizer = preprocessor.get_tokenizer(sentence_list, target_vocab_size=2**13)\n",
    "print(tokenizer)"
   ],
   "metadata": {
    "collapsed": false,
    "ExecuteTime": {
     "end_time": "2023-08-31T00:47:25.552338900Z",
     "start_time": "2023-08-31T00:45:09.917573200Z"
    }
   }
  },
  {
   "cell_type": "code",
   "execution_count": 8,
   "outputs": [
    {
     "name": "stdout",
     "output_type": "stream",
     "text": [
      "질문 데이터의 크기(shape) : (157771, 43)\n",
      "답변 데이터의 크기(shape) : (157771, 43)\n",
      "[31940 31836 31877 31941 31853 31856 31939 31842 31852 31736 31938 31881\n",
      " 31884 31736 31940 31858 31873 31939 31834 31873 31736 31939 31874 31891\n",
      " 31736 31941 31853 31884 31940 31836 31860 31736 31938 31887 31888 31939\n",
      " 31862 31876 31940 31854 31884 31736 31750]\n",
      "[31868 31939 31873 31884 31736 31940 31854 31884 31939 31854 31891 31938\n",
      " 31882 31844 31736 31941 31853 31856 31939 31842 31852 31736 31938 31882\n",
      " 31835 31940 31861 31884 31736 31940 31866 31843 31940 31861 31836 31938\n",
      " 31889 31844 31940 31858 31852 31736 31767]\n"
     ]
    }
   ],
   "source": [
    "questions, answers = preprocessor.tokenize_and_filter(questions, answers, tokenizer)\n",
    "\n",
    "print('질문 데이터의 크기(shape) :', questions.shape)\n",
    "print('답변 데이터의 크기(shape) :', answers.shape)\n",
    "\n",
    "# 0번 샘플을 임의로 출력\n",
    "print(questions[0])\n",
    "print(answers[0])"
   ],
   "metadata": {
    "collapsed": false,
    "ExecuteTime": {
     "end_time": "2023-08-30T07:12:20.003623300Z",
     "start_time": "2023-08-30T07:12:02.525766Z"
    }
   }
  },
  {
   "cell_type": "code",
   "execution_count": null,
   "outputs": [],
   "source": [
    "dataset = preprocessor.get_train_dataset(questions, answers, batch_size=256, buffer_size=20000)"
   ],
   "metadata": {
    "collapsed": false
   }
  },
  {
   "cell_type": "code",
   "execution_count": null,
   "outputs": [],
   "source": [
    "NUM_LAYERS = 4\n",
    "model = get_model(\n",
    "    vocab_size=tokenizer.vocab_size+2,\n",
    "    num_layers=NUM_LAYERS,\n",
    "    dff=512,\n",
    "    d_model=256,\n",
    "    num_heads=8,\n",
    "    dropout=0.2)\n",
    "\n",
    "\n",
    "def loss_function(y_true, y_pred):\n",
    "  y_true = tf.reshape(y_true, shape=(-1, preprocessor.MAX_LENGTH-1))\n",
    "\n",
    "  loss = tf.keras.losses.SparseCategoricalCrossentropy(\n",
    "    from_logits=True, reduction='none')(y_true, y_pred)\n",
    "\n",
    "  mask = tf.cast(tf.not_equal(y_true, 0), tf.float32)\n",
    "  loss = tf.multiply(loss, mask)\n",
    "\n",
    "  return tf.reduce_mean(loss)\n",
    "\n",
    "\n",
    "def accuracy(y_true, y_pred):\n",
    "  # 레이블의 크기는 (batch_size, MAX_LENGTH - 1)\n",
    "  y_true = tf.reshape(y_true, shape=(-1, preprocessor.MAX_LENGTH-1))\n",
    "  return tf.keras.metrics.sparse_categorical_accuracy(y_true, y_pred)\n",
    "\n",
    "learning_rate = CustomSchedule(d_model=256)\n",
    "\n",
    "\n",
    "optimizer = tf.keras.optimizers.Adam(\n",
    "    learning_rate, beta_1=0.9, beta_2=0.98, epsilon=1e-9)\n",
    "\n",
    "model.compile(optimizer=optimizer, loss=loss_function, metrics=[accuracy])"
   ],
   "metadata": {
    "collapsed": false
   }
  },
  {
   "cell_type": "code",
   "execution_count": null,
   "outputs": [],
   "source": [
    "'''No checkpoint'''\n",
    "def train_model(epochs=50, mini_epoch=10, is_contiune=False):\n",
    "    epoch_saved_path = f'./checkpoints/weights/vocab_{tokenizer.vocab_size}_layers_{NUM_LAYERS}_epoch_saved.txt'\n",
    "    # 저장된 모델이 있는 경우\n",
    "    if is_contiune:\n",
    "        with open(epoch_saved_path, 'r', encoding='utf-8') as f:\n",
    "            total_epoch = int(f.read())\n",
    "        model_path = f'checkpoints/weights/transformer_weight_vocab_{tokenizer.vocab_size}_layers_{NUM_LAYERS}_{total_epoch}.h5'\n",
    "        model.load_weights(model_path)\n",
    "        print(f\"{model_path.replace('checkpoints/weights/', '')} 모델을 사용해 계속 학습합니다.\")\n",
    "    else:\n",
    "        total_epoch = 0\n",
    "        print('저장된 가중치가 없어 처음부터 학습합니다.')\n",
    "\n",
    "    early_stopping = tf.keras.callbacks.EarlyStopping(monitor='loss', patience=3)\n",
    "    EPOCHS = 100\n",
    "    mini_epoch = 10\n",
    "\n",
    "    evaluate = Evaluate(model, tokenizer)\n",
    "    for e in range(int(EPOCHS/mini_epoch)):\n",
    "        history = model.fit(dataset, epochs=mini_epoch, workers=-1, callbacks=[early_stopping])\n",
    "        total_epoch += mini_epoch\n",
    "        with open(epoch_saved_path, 'w', encoding='utf-8') as f:\n",
    "            f.write(str(total_epoch))\n",
    "        print('>'*20, '샘플 예측', '<'*20)\n",
    "        sample_sentence = \"오늘 엄마랑 에버랜드 갔다왔어.\"\n",
    "        evaluate.predict(sample_sentence)\n",
    "        print('>'*50)\n",
    "\n",
    "        if total_epoch % 5 == 0:\n",
    "            model_path =  f'checkpoints/weights/transformer_weight_vocab_{tokenizer.vocab_size}_layers_{NUM_LAYERS}_{total_epoch}.h5'\n",
    "            model.save_weights(model_path)"
   ],
   "metadata": {
    "collapsed": false
   }
  },
  {
   "cell_type": "code",
   "execution_count": null,
   "outputs": [],
   "source": [
    "tf.keras.backend.clear_session()\n",
    "train_model(epochs=20)"
   ],
   "metadata": {
    "collapsed": false
   }
  },
  {
   "cell_type": "code",
   "execution_count": null,
   "outputs": [],
   "source": [
    "model.summary()"
   ],
   "metadata": {
    "collapsed": false
   }
  },
  {
   "cell_type": "code",
   "execution_count": null,
   "outputs": [],
   "source": [
    "history"
   ],
   "metadata": {
    "collapsed": false
   }
  }
 ],
 "metadata": {
  "kernelspec": {
   "display_name": "Python 3",
   "language": "python",
   "name": "python3"
  },
  "language_info": {
   "codemirror_mode": {
    "name": "ipython",
    "version": 2
   },
   "file_extension": ".py",
   "mimetype": "text/x-python",
   "name": "python",
   "nbconvert_exporter": "python",
   "pygments_lexer": "ipython2",
   "version": "2.7.6"
  }
 },
 "nbformat": 4,
 "nbformat_minor": 0
}
