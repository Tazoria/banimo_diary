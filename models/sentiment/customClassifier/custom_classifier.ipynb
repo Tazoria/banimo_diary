{
 "cells": [
  {
   "cell_type": "code",
   "execution_count": 74,
   "metadata": {
    "collapsed": true,
    "ExecuteTime": {
     "end_time": "2023-09-04T12:44:05.094100700Z",
     "start_time": "2023-09-04T12:44:05.077671800Z"
    }
   },
   "outputs": [],
   "source": [
    "import string\n",
    "import numpy as np\n",
    "import pandas as pd\n",
    "import tensorflow as tf\n",
    "from tensorflow.keras import Model\n",
    "from tensorflow.keras.layers import Dense, Flatten, LSTM\n",
    "from tensorflow.keras.utils import to_categorical\n",
    "from tensorflow.keras.preprocessing.sequence import pad_sequences"
   ]
  },
  {
   "cell_type": "code",
   "execution_count": 60,
   "outputs": [
    {
     "data": {
      "text/plain": "                                     Q  label\n0            일은 왜 해도 해도 끝이 없을까? 화가 난다.  angry\n1  그냥 내가 해결하는 게 나아. 남들한테 부담 주고 싶지도 않고.  angry",
      "text/html": "<div>\n<style scoped>\n    .dataframe tbody tr th:only-of-type {\n        vertical-align: middle;\n    }\n\n    .dataframe tbody tr th {\n        vertical-align: top;\n    }\n\n    .dataframe thead th {\n        text-align: right;\n    }\n</style>\n<table border=\"1\" class=\"dataframe\">\n  <thead>\n    <tr style=\"text-align: right;\">\n      <th></th>\n      <th>Q</th>\n      <th>label</th>\n    </tr>\n  </thead>\n  <tbody>\n    <tr>\n      <th>0</th>\n      <td>일은 왜 해도 해도 끝이 없을까? 화가 난다.</td>\n      <td>angry</td>\n    </tr>\n    <tr>\n      <th>1</th>\n      <td>그냥 내가 해결하는 게 나아. 남들한테 부담 주고 싶지도 않고.</td>\n      <td>angry</td>\n    </tr>\n  </tbody>\n</table>\n</div>"
     },
     "execution_count": 60,
     "metadata": {},
     "output_type": "execute_result"
    }
   ],
   "source": [
    "train_df = pd.read_csv('../../data/train_clear.csv')[['Q', 'label']]\n",
    "train_df = train_df.dropna()\n",
    "train_df.head(2)"
   ],
   "metadata": {
    "collapsed": false,
    "ExecuteTime": {
     "end_time": "2023-09-04T12:32:36.903068100Z",
     "start_time": "2023-09-04T12:32:35.979751Z"
    }
   }
  },
  {
   "cell_type": "code",
   "execution_count": 61,
   "outputs": [],
   "source": [
    "with open('train_text.txt', 'w', encoding='utf-8') as f:\n",
    "    for line in train_df['Q'].values:\n",
    "        try:\n",
    "            f.write(line+'\\n')\n",
    "        except TypeError as e:\n",
    "            print(line, e)"
   ],
   "metadata": {
    "collapsed": false,
    "ExecuteTime": {
     "end_time": "2023-09-04T12:32:37.059356100Z",
     "start_time": "2023-09-04T12:32:36.903068100Z"
    }
   }
  },
  {
   "cell_type": "code",
   "execution_count": 62,
   "outputs": [
    {
     "name": "stdout",
     "output_type": "stream",
     "text": [
      "일은 왜 해도 해도 끝이 없을까? 화가 난다.\n"
     ]
    }
   ],
   "source": [
    "with open('train_text.txt', 'r', encoding='utf-8') as f:\n",
    "    train_text = f.read().split('\\n')\n",
    "print(train_text[0])"
   ],
   "metadata": {
    "collapsed": false,
    "ExecuteTime": {
     "end_time": "2023-09-04T12:32:37.153088100Z",
     "start_time": "2023-09-04T12:32:37.059356100Z"
    }
   }
  },
  {
   "cell_type": "code",
   "execution_count": 63,
   "outputs": [],
   "source": [
    "import sentencepiece as spm\n",
    "\n",
    "input_path = '../../data/train_text.txt'\n",
    "vocab_size = 32000\n",
    "model_prefix = f'spm/spm_{vocab_size}'\n",
    "spm.SentencePieceTrainer.train(input=input_path, model_prefix=model_prefix, vocab_size=vocab_size)"
   ],
   "metadata": {
    "collapsed": false,
    "ExecuteTime": {
     "end_time": "2023-09-04T12:32:42.402382Z",
     "start_time": "2023-09-04T12:32:37.153088100Z"
    }
   }
  },
  {
   "cell_type": "code",
   "execution_count": 64,
   "outputs": [
    {
     "data": {
      "text/plain": "True"
     },
     "execution_count": 64,
     "metadata": {},
     "output_type": "execute_result"
    }
   ],
   "source": [
    "sp = spm.SentencePieceProcessor()\n",
    "sp.Load(f'spm/spm_{vocab_size}.model')"
   ],
   "metadata": {
    "collapsed": false,
    "ExecuteTime": {
     "end_time": "2023-09-04T12:32:42.480510100Z",
     "start_time": "2023-09-04T12:32:42.402382Z"
    }
   }
  },
  {
   "cell_type": "code",
   "execution_count": 65,
   "outputs": [
    {
     "name": "stdout",
     "output_type": "stream",
     "text": [
      "[[    0     0     0     0     0     0     0     0     0     0     0     0\n",
      "      0     0     0     0     0     0     0     0     0     0     0     0\n",
      "      0     0     0     0     0     0     0     0     0     0     0     0\n",
      "      0     0     0     0     0     0     0     0    87    19    70    27\n",
      "      6    27     6  2916  1608    25   101  2235     3]\n",
      " [    0     0     0     0     0     0     0     0     0     0     0     0\n",
      "      0     0     0     0     0     0     0     0     0     0     0     0\n",
      "      0     0     0     0     0     0     0     0     0     0     0     0\n",
      "      0     0     0     0     0     0     0     0   116     9  6067    28\n",
      "   4884     3  9704  1567   738   305     6   183     3]\n",
      " [    0     0     0     0     0     0     0     0     0     0     0     0\n",
      "      0     0     0     0     0     0     0     0     0     0     0     0\n",
      "      0     0     0     0     0     0     0     0     0     0     0     0\n",
      "      0     0     0   187  1912   209  2335     7 17548    90  6501    13\n",
      "  12858 22005    92 22624   257     8   101    12     3]\n",
      " [    0     0     0     0     0     0     0     0     0     0     0     0\n",
      "      0     0     0     0     0     0     0     0     0     0     0     0\n",
      "      0     0     0     0     0     0     0     0     0     0     0     0\n",
      "      0     0     0   755  3028     4 23223   159     3  1659  8700  1629\n",
      "   9024 29678     4  5671   820   487    10    14     3]\n",
      " [    0     0     0     0     0     0     0     0     0     0     0     0\n",
      "      0     0     0     0     0     0     0     0     0     0     0     0\n",
      "      0     0     0     0     0     0     0     0     0     0     0     0\n",
      "      0     0     0     0   322  4128  4306  4750     7  9163     3   123\n",
      "    777     5   206  1286   557  2762   190   346     3]]\n"
     ]
    }
   ],
   "source": [
    "encoded = []\n",
    "for t in train_df['Q'].values:\n",
    "    encoded.append(sp.encode_as_ids(t))\n",
    "train_text = pad_sequences(encoded)\n",
    "print(train_text[:5])"
   ],
   "metadata": {
    "collapsed": false,
    "ExecuteTime": {
     "end_time": "2023-09-04T12:32:45.670944900Z",
     "start_time": "2023-09-04T12:32:42.480510100Z"
    }
   }
  },
  {
   "cell_type": "code",
   "execution_count": 66,
   "outputs": [
    {
     "data": {
      "text/plain": "array(['angry', 'happy', 'insecure', 'embarrassed', 'sad', 'broken_heart'],\n      dtype=object)"
     },
     "execution_count": 66,
     "metadata": {},
     "output_type": "execute_result"
    }
   ],
   "source": [
    "train_df['label'].unique()"
   ],
   "metadata": {
    "collapsed": false,
    "ExecuteTime": {
     "end_time": "2023-09-04T12:32:45.885177800Z",
     "start_time": "2023-09-04T12:32:45.760205800Z"
    }
   }
  },
  {
   "cell_type": "code",
   "execution_count": 67,
   "outputs": [
    {
     "data": {
      "text/plain": "label\n2    26298\n0    26000\n5    25954\n4    25814\n3    24936\n1    16947\nName: count, dtype: int64"
     },
     "execution_count": 67,
     "metadata": {},
     "output_type": "execute_result"
    }
   ],
   "source": [
    "emotions = {\n",
    "    'angry': 0,\n",
    "    'happy': 1,\n",
    "    'insecure': 2,\n",
    "    'embarrassed': 3,\n",
    "    'sad': 4,\n",
    "    'broken_heart': 5\n",
    "}\n",
    "train_df['label'] = train_df['label'].apply(lambda x: emotions[x])\n",
    "train_df['label'].value_counts()"
   ],
   "metadata": {
    "collapsed": false,
    "ExecuteTime": {
     "end_time": "2023-09-04T12:32:45.920278300Z",
     "start_time": "2023-09-04T12:32:45.853935700Z"
    }
   }
  },
  {
   "cell_type": "markdown",
   "source": [],
   "metadata": {
    "collapsed": false
   }
  },
  {
   "cell_type": "code",
   "execution_count": 68,
   "outputs": [
    {
     "data": {
      "text/plain": "array([0, 0], dtype=int64)"
     },
     "execution_count": 68,
     "metadata": {},
     "output_type": "execute_result"
    }
   ],
   "source": [
    "train_labels = train_df['label'].values\n",
    "train_labels[:2]"
   ],
   "metadata": {
    "collapsed": false,
    "ExecuteTime": {
     "end_time": "2023-09-04T12:32:45.935911900Z",
     "start_time": "2023-09-04T12:32:45.920278300Z"
    }
   }
  },
  {
   "cell_type": "code",
   "execution_count": 73,
   "outputs": [
    {
     "name": "stdout",
     "output_type": "stream",
     "text": [
      "<BatchDataset element_spec=(TensorSpec(shape=(None, 57), dtype=tf.int32, name=None), TensorSpec(shape=(None,), dtype=tf.int64, name=None))>\n"
     ]
    }
   ],
   "source": [
    "train_set = tf.data.Dataset.from_tensor_slices((train_text, train_labels)).shuffle(10000).batch(32)\n",
    "print(train_set)"
   ],
   "metadata": {
    "collapsed": false,
    "ExecuteTime": {
     "end_time": "2023-09-04T12:42:37.098184800Z",
     "start_time": "2023-09-04T12:42:37.066217800Z"
    }
   }
  },
  {
   "cell_type": "code",
   "execution_count": null,
   "outputs": [],
   "source": [
    "class MyLSTM(Model):\n",
    "    def __init__(self):\n",
    "        super(MyLSTM, self).__init__()\n"
   ],
   "metadata": {
    "collapsed": false
   }
  }
 ],
 "metadata": {
  "kernelspec": {
   "display_name": "Python 3",
   "language": "python",
   "name": "python3"
  },
  "language_info": {
   "codemirror_mode": {
    "name": "ipython",
    "version": 2
   },
   "file_extension": ".py",
   "mimetype": "text/x-python",
   "name": "python",
   "nbconvert_exporter": "python",
   "pygments_lexer": "ipython2",
   "version": "2.7.6"
  }
 },
 "nbformat": 4,
 "nbformat_minor": 0
}
